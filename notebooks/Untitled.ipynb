{
 "cells": [
  {
   "cell_type": "code",
   "execution_count": null,
   "metadata": {},
   "outputs": [],
   "source": []
  },
  {
   "cell_type": "markdown",
   "metadata": {},
   "source": [
    "$S$"
   ]
  },
  {
   "cell_type": "code",
   "execution_count": 1,
   "metadata": {},
   "outputs": [],
   "source": [
    "from bs4 import BeautifulSoup as bs\n",
    "import requests\n",
    "import pandas"
   ]
  },
  {
   "cell_type": "code",
   "execution_count": 2,
   "metadata": {},
   "outputs": [],
   "source": [
    "NL_USERS = {}\n",
    "TWITTER_USERS = {}"
   ]
  },
  {
   "cell_type": "code",
   "execution_count": 164,
   "metadata": {},
   "outputs": [],
   "source": [
    "paginated_no =0\n",
    "nl_url = 'https://www.nairaland.com/5998585/bbnaija-2020-live-updates-thread/' + str(paginated_no)"
   ]
  },
  {
   "cell_type": "code",
   "execution_count": null,
   "metadata": {},
   "outputs": [],
   "source": []
  },
  {
   "cell_type": "code",
   "execution_count": 165,
   "metadata": {},
   "outputs": [
    {
     "data": {
      "text/plain": [
       "'https://www.nairaland.com/5998585/bbnaija-2020-live-updates-thread/0'"
      ]
     },
     "execution_count": 165,
     "metadata": {},
     "output_type": "execute_result"
    }
   ],
   "source": [
    "str(nl_url)"
   ]
  },
  {
   "cell_type": "code",
   "execution_count": 167,
   "metadata": {},
   "outputs": [],
   "source": [
    "nl_scrape = requests.get(str(nl_url))"
   ]
  },
  {
   "cell_type": "code",
   "execution_count": 168,
   "metadata": {},
   "outputs": [],
   "source": [
    "nl_scrape = requests.get(str(nl_url))\n",
    "nl_soup = bs(nl_scrape.content, \"html.parser\")"
   ]
  },
  {
   "cell_type": "code",
   "execution_count": 169,
   "metadata": {},
   "outputs": [
    {
     "data": {
      "text/plain": [
       "<!DOCTYPE HTML PUBLIC \"-//W3C//DTD HTML 4.01 Transitional//EN\"\n",
       "\"http://www.w3.org/TR/html4/loose.dtd\">\n",
       "<html><head><title>BBNaija 2020 Live Updates Thread - TV/Movies - Nigeria</title><meta content=\"text/html; charset=utf-8\" http-equiv=\"Content-Type\"/><link href=\"https://www.nairaland.com/static/nl2.css/938989384213901\" rel=\"stylesheet\" type=\"text/css\"/><meta content=\"KUABan1rWBhK3Jb2LePxHAv00FEbbM1wQMAAgsN-EyA\" name=\"google-site-verification\"/><link href=\"/5998585/bbnaija-2020-live-updates-thread/1\" rel=\"next\"/></head><body><div class=\"body\"><table id=\"up\" summary=\"\"><tr><td class=\"grad\"><h1><a class=\"g\" href=\"https://www.nairaland.com/\" title=\"Nairaland, the Nigerian Forum\"><img height=\"24\" src=\"/static/logo1.png\" width=\"246\"/></a></h1> Welcome, <b>Guest</b>: <a href=\"/register\">Join Nairaland</a> / <b><a href=\"/login\">LOGIN!</a></b> / <a href=\"/trending\">Trending</a> / <a href=\"/recent\">Recent</a> / <a href=\"/topics\">New</a><br/><b>Stats: </b>2,517,806 members, 5,750,582 topics. <b>Date</b>: Saturday, 25 July 2020 at 07:15 PM<p><form action=\"/search\"> <input name=\"q\" size=\"32\" type=\"text\"/>\n",
       "<input name=\"search\" type=\"submit\" value=\"Search\"/></form> </p></td></tr></table><a name=\"top\"></a><h2>BBNaija 2020 Live Updates Thread - TV/Movies - Nairaland</h2><p class=\"bold\"><a href=\"/\">Nairaland Forum</a> / <a href=\"/entertainment\">Entertainment</a> / <a href=\"/tv-movies\">TV/Movies</a>  / <a href=\"/5998585/bbnaija-2020-live-updates-thread\">BBNaija 2020 Live Updates Thread</a> (212886 Views) <p> <a href=\"/6002044/meet-bbnaija-2020-housemates-photos\">Meet The Bbnaija 2020 Housemates (photos)</a>  /  <a href=\"/5871053/bbnaija-2020-online-audition-holds\">BBNaija 2020: Online Audition Holds (Details)</a>  /  <a href=\"/5272172/bbnaija-2019-live-updates-big\">BBNaija 2019 Live Updates (Big Brother Naija 2019 Thread)</a> <a href=\"/tv-movies/1\">(2)</a> <a href=\"/tv-movies/2\">(3)</a> <a href=\"/tv-movies/3\">(4)</a> <div class=\"vertipics\"><a href=\"/hopto/tv-movies/11701\" rel=\"nofollow\"><img src=\"https://www.nairaland.com/vertipics/9silmcggy13nvdteu4wfovo49l0haiuf.png\"/></a><a href=\"/hopto/tv-movies/5993\" rel=\"nofollow\"><img src=\"https://www.nairaland.com/vertipics/4uof3y5q42f8e5ptnla73n844mqd9gb1.jpg\"/></a><a href=\"/hopto/tv-movies/7194\" rel=\"nofollow\"><img src=\"https://www.nairaland.com/vertipics/gbcziu2w3trt92hiwxv8cns70r66npul.jpg\"/></a></div><p><b>(1)</b> <a href=\"/5998585/bbnaija-2020-live-updates-thread/1\">(2)</a> <a href=\"/5998585/bbnaija-2020-live-updates-thread/2\">(3)</a> <a href=\"/5998585/bbnaija-2020-live-updates-thread/3\">(4)</a> <a href=\"/5998585/bbnaija-2020-live-updates-thread/4\">(5)</a> <a href=\"/5998585/bbnaija-2020-live-updates-thread/5\">(6)</a> <a href=\"/5998585/bbnaija-2020-live-updates-thread/6\">(7)</a> <a href=\"/5998585/bbnaija-2020-live-updates-thread/7\">(8)</a> <a href=\"/5998585/bbnaija-2020-live-updates-thread/8\">(9)</a> <a href=\"/5998585/bbnaija-2020-live-updates-thread/9\">(10)</a> ...  <a href=\"/5998585/bbnaija-2020-live-updates-thread/595\">(596)</a>  (<a href=\"https://www.nairaland.com/newpost?topic=5998585\"><b>Reply</b></a>)  <span class=\"small\">(<a href=\"#down\"><b>Go Down</b></a>)</span><p><table summary=\"posts\"><tr><td class=\"bold l pu\"><a name=\"91825753\"></a><a name=\"msg91825753\"></a><a name=\"5998585.0\"></a><a href=\"/5998585/bbnaija-2020-live-updates-thread#91825753\">BBNaija 2020 Live Updates Thread</a> by <a class=\"user\" href=\"/vizkiz\" title=\"Location: Lagos Nigeria\">vizkiz</a>: <span class=\"s\"><b>12:01am</b> On <b>Jul 18</b></span><tr><td class=\"l w pd\" id=\"pb91825753\"><div class=\"narrow\"><i>Finally it is here!!! <br/><br/><b>Drum rolls!</b> <img alt=\"cheesy\" border=\"0\" class=\"faces\" src=\"https://www.nairaland.com/faces/cheesy.png\"/><br/><br/>The thread we all have been waiting for! The 2020 big brother Naija season 5. Yay!!! <br/><br/>Tomorrow Sunday 19th June, we are anticipating to see our ever blazing presenter- Ebuka obi-uchendu and some new entertaining housemates coming in on a race to win a whopping sum of 85 million naira!!!<br/><br/>The Reality Tv show will air on all DSTV (channel 198) and Gotv (channel 29) Packages from 7pm (WAT) <br/><br/>This year's edition is proudly sponsored by BetWay in association with Guinness.<br/><br/>Note: <b>The aim of the show is to have fun; however for the duration of the show, the Housemates are subject to Biggie’s rules. These need to be followed from the moment the Housemates enter the House until the moment they leave.</b> <br/><br/>Big Brother's rules of law: <blockquote> Rule 1: Housemates must respect the House and their fellow contestants at all times.<br/><br/>Rule 2: The Housemates will have no contact with the outside world and they are kept busy by the various tasks and challenges set by Biggie. Being in such close proximity with a house full of strangers can be tough going and Biggie has set rules that need to be followed.<br/><br/>Rule 3: Big Brother has complete control over everything going on in the house and Biggie never discusses anything that goes on outside of the house with anyone inside.<br/><br/>Rule 4: The Housemates are filmed 24/7 and they must have their microphones on at all times. The viewers must be able to hear all conversations at all times and are not allowed to whisper or cover their mouths while speaking to fellow Housemates. They are also not allowed to reveal the location of the cameras and microphones.<br/><br/>Rule 5: Diary Sessions are one of the most important aspects of the show’s success and are compulsory. Once a Housemate is called to the Diary Room, they must drop everything they are doing and proceed to the Diary Room. Failure to do so will result in a fine, \"a strike\" or worse. Housemates can request to enter the Diary Room at any time of the day or night. Sunglasses and hats are not permitted in the Diary Room. The door for the Diary Room will be locked when not in use and no one is allowed into the room if it is occupied.<br/><br/>Important to note:<br/>Diary Sessions and Nominations are compulsory and Housemates need to give valid reasons for nominating a fellow Housemate. Biggie reserves the right to take his time to answer any questions, but will always return with an answer. Biggie will not entertain any personal questions. What happens in the Diary Room stays in the Diary Room and Housemates cannot discuss anything that happens in the Diary Room. Exceptions to this rule are events such as Head of House Tasks.<br/><br/>Rule 6: Nominations are important and Housemates are not allowed to discuss the reasons for their nominations with anyone other than Big Brother. If a Housemate does so it will be interpreted as a deliberate attempt to influence others. They are not allowed to communicate via hints, signs, symbols or written notes. Housemates are not allowed to enter into any alliance or scheme to plot the downfall of fellow Housemates. Communication in the house in Yoruba, Igbo, Hausa and any other local language other than English is not permitted.<br/><br/>Rule 7: Housemates are not allowed to strike, intimidate, threaten or act in any way that can be construed as violent towards any fellow Housemates. This could result in immediate disqualification.<br/><br/>Rule 8: Housemates are not allowed to bring the following into the house:<br/><br/>- CDs, CD players, radios, iPod, iPad<br/>- Walkmans, DVD/Blu-Ray players, televisions<br/>- Mobile phones, Smart phones<br/>- Computers, Laptops, Notepads<br/>- Video game consoles, Computer games<br/>- Calendars<br/>- Diaries<br/>- Pen and paper or any writing materials<br/>- Eyeliner (Or any other make-up that could be used for writing.)<br/>- Alarm clocks<br/>- Watches<br/>- Any electronic equipment requiring batteries<br/>- Weapons, drugs and narcotics<br/>- Medication (except for agreed personal medication in consultation with Big Brother)<br/>- Clothes with prominent logos, clothes with fine stripes or dots, silk clothes, solid white clothes.)<br/>- Your pet cat and your children (although, you can bring pictures of your children and your cat)<br/><br/>Rule 10: Housemates can bring the following into the House:<br/>- Cigarettes / cigars / tobacco<br/>- Reading material, either a book or magazine.<br/>- Moisturising cream<br/>- Shaving foam, deodorant, shower lotion, pack of razor blades<br/>- Day cream, night cream and eye cream<br/>- One cleansing lotion. Cleansing tonic.<br/>- Perfume or after shave<br/>- Hairspray/ gel hair conditioner and wax<br/>- Lip balm<br/>- Musical Instrument (provided it doen’t need batteries)<br/><br/>Rule 11: Biggies’ word is law and all Housemates must comply with his requests at all times without fail.<br/><br/>Rule 12: Only Biggie can open up the storage room where the Housemates will find everything that they need for Tasks, Challenges etc. Biggie will inform the Housemates that the Storage Room is open and the Head of House will proceed there to retrieve what Biggie has put there for the Housemates daily and weekly needs </blockquote><br/>For more information, visit the official website for BBNaija: <a href=\"http://www.bigbrothernaija.net\">www.bigbrothernaija.net</a><br/><br/>The last thread was too dramatic!!!!!!! (Oh lord! ) <img alt=\"grin\" border=\"0\" class=\"faces\" src=\"https://www.nairaland.com/faces/grin.png\"/><br/><br/><a href=\"https://www.nairaland.com/5272172/bbnaija-2019-live-updates-big\">https://www.nairaland.com/5272172/bbnaija-2019-live-updates-big</a><br/><br/><br/>With over 8,000 pages, 264,000 comments and Three million views of Live updates, drama, entertainments, disagreements and rib cracking memes. (I can’t deal <img alt=\"grin\" border=\"0\" class=\"faces\" src=\"https://www.nairaland.com/faces/grin.png\"/>)<br/><br/>Are you ready for an “entanglement” with this new thread?  <img alt=\"grin\" border=\"0\" class=\"faces\" src=\"https://www.nairaland.com/faces/grin.png\"/> <img alt=\"grin\" border=\"0\" class=\"faces\" src=\"https://www.nairaland.com/faces/grin.png\"/> <img alt=\"grin\" border=\"0\" class=\"faces\" src=\"https://www.nairaland.com/faces/grin.png\"/><br/><br/>Let’s go!!!! <br/></i></div><p class=\"s\"> <b id=\"lpt91825753\">46 Likes </b> <b id=\"shb91825753\"> 7 Shares</b><p><img class=\"attachmentimage img\" src=\"https://www.nairaland.com/attachments/11949166_0d25e937e8dc448db619653513216a8c_jpeg_jpegd57696999db511326ce24345d9593aa8\"/> <p><img class=\"attachmentimage img\" src=\"https://www.nairaland.com/attachments/11949172_7c2b623af53f4f8bb46e4e3bdc08133f_jpeg_jpegbd85328e88c3d7b6ddbde52d47ee20e4\"/> <tr><td class=\"bold l pu\"><a name=\"91825769\"></a><a name=\"msg91825769\"></a><a name=\"5998585.1\"></a><a href=\"/5998585/bbnaija-2020-live-updates-thread#91825769\">Re: BBNaija 2020 Live Updates Thread</a> by <a class=\"user\" href=\"/vizkiz\" title=\"Location: Lagos Nigeria\">vizkiz</a>: <span class=\"s\"><b>12:02am</b> On <b>Jul 18</b></span><tr><td class=\"l w pd\" id=\"pb91825769\"><div class=\"narrow\"><span style=\"color:#000099;\"><span style=\"font-family: Lucida Sans Unicode;\"><b><i>I go by the name Vizkiz aka Papiiksuh aka kushykush and I will be your host as always.  <img alt=\"wink\" border=\"0\" class=\"faces\" src=\"https://www.nairaland.com/faces/wink.png\"/><br/><br/>Y’all know how we do it every year. Make una start to dey come out.  <img alt=\"grin\" border=\"0\" class=\"faces\" src=\"https://www.nairaland.com/faces/grin.png\"/> </i></b></span></span><br/><br/><blockquote> Special recognition to the Mod incharge of these special set of Nairalanders: Dominique (We back again ma’am  <img alt=\"grin\" border=\"0\" class=\"faces\" src=\"https://www.nairaland.com/faces/grin.png\"/>) also Lalasticlala. Been a while boss.  <img alt=\"grin\" border=\"0\" class=\"faces\" src=\"https://www.nairaland.com/faces/grin.png\"/><br/><br/>Sirfee, Giel, Oluwapomile1, Eeghe, Geniro, purest21, Emina33, 3rnest threebear, ovoP, ibkayee, ifunayalov, iamJ, Siki355, junbi, kenzkeys, aro1, frankgiel, Munzy14, ovokoo, geekybabe, 1bkaye, sod09, yuneehk, toseen7, chiefheywhy, spdazzy, Ekinematics, Chisco82, Burticious, vladimiros, COOL10, Akorkor, NicoBaba, barallanee, toseen7, AntiBrutus, Lhimeet, Eosigwe, Zicoraads, Anikulhapo, Ginaz, Enoqueen, AmazingAngel, ObaOni, Maureensylvia, Divay22, SoftP, gr8gem, Slymonster, Eksbabe, Scholar90, SirusX, Seasy, JehanEddy07, Plus10, Larkz, 100naira, Carammel, Ladoshady, Timmypaul, Zaho1, bodyonchecheche, hustleranthem, Twoclans, doyinisaac, Micxwell, Berryice, Laveda, Smellymouth, Akshow, Onyeomanono24, Crowntoro, Giwish, Dynamite02, Agbgift, ammyluv2002, Slymonster, Janellemonae, Lonelydora, UjSizzle, Mediocre, SmartyPants, Bobbyunitedfc, Queenfav, veekid, Vivly, Suyamasta, Phi001, Pinkpebbles, Justi4jesu, Afam4eva, Enemmo, Babydioku, safarigirl, MizOmalicha, JehanEddy07, Teelaw4life, Ogorwyne, Peacett, Sheylarhh, Mctowel01, thatigboman, Reussite, minervathena, nigerianwoman, nelll2, noxybabe, Neimar, Coyotejack, viciati, IamD18, Cocoberry, stephleena, Neimar, dannyxy, nadesh, beorn, Monsuratulatu, seasy, yale9, agbgift, Tatiana4u,   OddslordIsBack, viciati, playboy99, garfield1, yhenny,      </blockquote><br/><br/><span style=\"color:#000099;\"><span style=\"font-family: Lucida Sans Unicode;\"><b><i>No permanent enemy here. <br/><br/>Please bury your brawl from last season. “When a new season starts, old ones are passed away”  <img alt=\"grin\" border=\"0\" class=\"faces\" src=\"https://www.nairaland.com/faces/grin.png\"/><br/><br/>For those asking for a WhatsApp group (SPECIFICALLY FOR BBNAIJA) to join, here you go  <img alt=\"cheesy\" border=\"0\" class=\"faces\" src=\"https://www.nairaland.com/faces/cheesy.png\"/><br/><br/></i></b></span></span></div><p class=\"s\"> <b id=\"lpt91825769\">29 Likes </b> <b id=\"shb91825769\"> 3 Shares</b><tr><td class=\"bold l pu\"><a name=\"91825772\"></a><a name=\"msg91825772\"></a><a name=\"5998585.2\"></a><a href=\"/5998585/bbnaija-2020-live-updates-thread#91825772\">Re: BBNaija 2020 Live Updates Thread</a> by <a class=\"user\" href=\"/homesteady\" title=\"Location: from kano to kaduna to benin\">homesteady</a>(<span class=\"m\">m</span>): <span class=\"s\"><b>12:03am</b> On <b>Jul 18</b></span><tr><td class=\"l w pd\" id=\"pb91825772\"><div class=\"narrow\">Bro  <img alt=\"grin\" border=\"0\" class=\"faces\" src=\"https://www.nairaland.com/faces/grin.png\"/></div><tr><td class=\"bold l pu\"><a name=\"91825793\"></a><a name=\"msg91825793\"></a><a name=\"5998585.3\"></a><a href=\"/5998585/bbnaija-2020-live-updates-thread#91825793\">Re: BBNaija 2020 Live Updates Thread</a> by <a class=\"user\" href=\"/vizkiz\" title=\"Location: Lagos Nigeria\">vizkiz</a>: <span class=\"s\"><b>12:05am</b> On <b>Jul 18</b></span><tr><td class=\"l w pd\" id=\"pb91825793\"><div class=\"narrow\"><img alt=\"wink\" border=\"0\" class=\"faces\" src=\"https://www.nairaland.com/faces/wink.png\"/></div><p class=\"s\"> <b id=\"lpt91825793\">2 Likes </b> <b id=\"shb91825793\"> 2 Shares</b><p><img class=\"attachmentimage img\" src=\"https://www.nairaland.com/attachments/11954380_d101f6fa50cf43339451292d934166b9_jpeg_jpegad3d41ce7d511d9198f609aa94bb48ec\"/> <tr><td class=\"bold l pu\"><a name=\"91825824\"></a><a name=\"msg91825824\"></a><a name=\"5998585.4\"></a><a href=\"/5998585/bbnaija-2020-live-updates-thread#91825824\">Re: BBNaija 2020 Live Updates Thread</a> by <a class=\"user\" href=\"/kodded\" title=\"Location: [color=#000099][b][i]when will nairaland bring in the[/b][/i][/color] [color=#006600]([/color][color=#550000]Dislike[/color][color=#006600])[/color] [color=#000099][b][i]button ??? :-\\ &gt;:([/b][/i][/color]\">kodded</a>(<span class=\"m\">m</span>): <span class=\"s\"><b>12:07am</b> On <b>Jul 18</b></span><tr><td class=\"l w pd\" id=\"pb91825824\"><div class=\"narrow\"><img alt=\"smiley\" border=\"0\" class=\"faces\" src=\"https://www.nairaland.com/faces/smiley.png\"/></div><tr><td class=\"bold l pu\"><a name=\"91825859\"></a><a name=\"msg91825859\"></a><a name=\"5998585.5\"></a><a href=\"/5998585/bbnaija-2020-live-updates-thread#91825859\">Re: BBNaija 2020 Live Updates Thread</a> by <a class=\"user\" href=\"/kamsiviva\">KamsiViva</a>: <span class=\"s\"><b>12:09am</b> On <b>Jul 18</b></span><tr><td class=\"l w pd\" id=\"pb91825859\"><div class=\"narrow\">The show never start ona don dey rant...<br/><br/>It's alright, let me be chewing my suya first, until they post my ex as one of the contestants.</div><p class=\"s\"> <b id=\"lpt91825859\">9 Likes </b> <b id=\"shb91825859\"></b><tr><td class=\"bold l pu\"><a name=\"91826071\"></a><a name=\"msg91826071\"></a><a name=\"5998585.6\"></a><a href=\"/5998585/bbnaija-2020-live-updates-thread#91826071\">Re: BBNaija 2020 Live Updates Thread</a> by <a class=\"user\" href=\"/ryanayo\" title=\"Location: ITALY\">RYANAYO</a>(<span class=\"m\">m</span>): <span class=\"s\"><b>12:27am</b> On <b>Jul 18</b></span><tr><td class=\"l w pd\" id=\"pb91826071\"><div class=\"narrow\">bbnaija 2020 live stream  free online 24/7 at <a href=\"https://toxicpatat.net\">https://toxicpatat.net</a></div><p class=\"s\"> <b id=\"lpt91826071\">10 Likes </b> <b id=\"shb91826071\"> 5 Shares</b><p><img class=\"attachmentimage img\" src=\"https://www.nairaland.com/attachments/11949215_img4279_jpeg438a03066f5630ee3b5835a1b7b1bd07\"/> <tr><td class=\"bold l pu\"><a name=\"91826072\"></a><a name=\"msg91826072\"></a><a name=\"5998585.7\"></a><a href=\"/5998585/bbnaija-2020-live-updates-thread#91826072\">Re: BBNaija 2020 Live Updates Thread</a> by <a class=\"user\" href=\"/seasy\">seasy</a>: <span class=\"s\"><b>12:27am</b> On <b>Jul 18</b></span><tr><td class=\"l w pd\" id=\"pb91826072\"><div class=\"narrow\">Yeah!<br/>We are here again.<br/>Thanks for the recognition. <br/> <img alt=\"grin\" border=\"0\" class=\"faces\" src=\"https://www.nairaland.com/faces/grin.png\"/> <img alt=\"grin\" border=\"0\" class=\"faces\" src=\"https://www.nairaland.com/faces/grin.png\"/> <img alt=\"grin\" border=\"0\" class=\"faces\" src=\"https://www.nairaland.com/faces/grin.png\"/></div><p class=\"s\"> <b id=\"lpt91826072\">5 Likes </b> <b id=\"shb91826072\"></b><tr><td class=\"bold l pu\"><a name=\"91826085\"></a><a name=\"msg91826085\"></a><a name=\"5998585.8\"></a><a href=\"/5998585/bbnaija-2020-live-updates-thread#91826085\">Re: BBNaija 2020 Live Updates Thread</a> by <a class=\"user\" href=\"/ryanayo\" title=\"Location: ITALY\">RYANAYO</a>(<span class=\"m\">m</span>): <span class=\"s\"><b>12:28am</b> On <b>Jul 18</b></span><tr><td class=\"l w pd\" id=\"pb91826085\"><div class=\"narrow\">2 days to go</div><p class=\"s\"> <b id=\"lpt91826085\"> </b> <b id=\"shb91826085\"></b><p><img class=\"attachmentimage img\" src=\"https://www.nairaland.com/attachments/11949213_img4279_jpeg438a03066f5630ee3b5835a1b7b1bd07\"/> <tr><td class=\"bold l pu\"><a name=\"91826132\"></a><a name=\"msg91826132\"></a><a name=\"5998585.9\"></a><a href=\"/5998585/bbnaija-2020-live-updates-thread#91826132\">Re: BBNaija 2020 Live Updates Thread</a> by <a class=\"user\" href=\"/vizkiz\" title=\"Location: Lagos Nigeria\">vizkiz</a>: <span class=\"s\"><b>12:32am</b> On <b>Jul 18</b></span><tr><td class=\"l w pd\" id=\"pb91826132\"><div class=\"narrow\"><blockquote><a href=\"/post/91826072\"><b>seasy</b></a></blockquote></div></td></tr></td></tr></p></p></td></tr></td></tr></p></td></tr></td></tr></p></p></td></tr></td></tr></p></td></tr></td></tr></td></tr></td></tr></p></p></td></tr></td></tr></td></tr></td></tr></p></td></tr></td></tr></p></p></p></td></tr></td></tr></table></p></p></p></p></div></body></html>:<br/>Yeah!<br/>We are here again.<br/>Thanks for the recognition. <br/> <img alt=\"grin\" border=\"0\" class=\"faces\" src=\"https://www.nairaland.com/faces/grin.png\"/> <img alt=\"grin\" border=\"0\" class=\"faces\" src=\"https://www.nairaland.com/faces/grin.png\"/> <img alt=\"grin\" border=\"0\" class=\"faces\" src=\"https://www.nairaland.com/faces/grin.png\"/><br/><span style=\"color:#000099;\"><span style=\"font-family: Lucida Sans Unicode;\"><b><i>You are welcome.  </i></b></span></span><p class=\"s\"> <b id=\"lpt91826132\">1 Like </b> <b id=\"shb91826132\"> 1 Share</b><tr><td class=\"bold l pu\"><a name=\"91826136\"></a><a name=\"msg91826136\"></a><a name=\"5998585.10\"></a><a href=\"/5998585/bbnaija-2020-live-updates-thread#91826136\">Re: BBNaija 2020 Live Updates Thread</a> by <a class=\"user\" href=\"/vizkiz\" title=\"Location: Lagos Nigeria\">vizkiz</a>: <span class=\"s\"><b>12:33am</b> On <b>Jul 18</b></span><tr><td class=\"l w pd\" id=\"pb91826136\"><div class=\"narrow\"><blockquote><a href=\"/post/91826085\"><b>RYANAYO</b></a></blockquote></div></td></tr></td></tr></p>:<br/>2 days to go <br/><span style=\"color:#000099;\"><span style=\"font-family: Lucida Sans Unicode;\"><b><i>But tomorrow is Sunday na  <img alt=\"cheesy\" border=\"0\" class=\"faces\" src=\"https://www.nairaland.com/faces/cheesy.png\"/> </i></b></span></span><tr><td class=\"bold l pu\"><a name=\"91826201\"></a><a name=\"msg91826201\"></a><a name=\"5998585.11\"></a><a href=\"/5998585/bbnaija-2020-live-updates-thread#91826201\">Re: BBNaija 2020 Live Updates Thread</a> by <a class=\"user\" href=\"/slynation\" title=\"Location: Abuja\">Slynation</a>(<span class=\"m\">m</span>): <span class=\"s\"><b>12:41am</b> On <b>Jul 18</b></span><tr><td class=\"l w pd\" id=\"pb91826201\"><div class=\"narrow\">I heard one descendant of bobrisky is going to the house.... \"Jay boogie\" as a male or female??</div><p class=\"s\"> <b id=\"lpt91826201\">9 Likes </b> <b id=\"shb91826201\"></b><tr><td class=\"bold l pu\"><a name=\"91826240\"></a><a name=\"msg91826240\"></a><a name=\"5998585.12\"></a><a href=\"/5998585/bbnaija-2020-live-updates-thread#91826240\">Re: BBNaija 2020 Live Updates Thread</a> by <a class=\"user\" href=\"/lizbathory\">LizBathory</a>(<span class=\"f\">f</span>): <span class=\"s\"><b>12:47am</b> On <b>Jul 18</b></span><tr><td class=\"l w pd\" id=\"pb91826240\"><div class=\"narrow\"><img alt=\"cool\" border=\"0\" class=\"faces\" src=\"https://www.nairaland.com/faces/cool.png\"/></div><tr><td class=\"bold l pu\"><a name=\"91826287\"></a><a name=\"msg91826287\"></a><a name=\"5998585.13\"></a><a href=\"/5998585/bbnaija-2020-live-updates-thread#91826287\">Re: BBNaija 2020 Live Updates Thread</a> by <a class=\"user\" href=\"/100naira\">100naira</a>(<span class=\"m\">m</span>): <span class=\"s\"><b>12:53am</b> On <b>Jul 18</b></span><tr><td class=\"l w pd\" id=\"pb91826287\"><div class=\"narrow\">Marking register  <img alt=\"cool\" border=\"0\" class=\"faces\" src=\"https://www.nairaland.com/faces/cool.png\"/> <img alt=\"cool\" border=\"0\" class=\"faces\" src=\"https://www.nairaland.com/faces/cool.png\"/><br/><br/>How many days and how many housemates this season? <br/><br/><br/>Also abeg can the conspiracy theorists dial it down this season? Make we enjoy this show in peace abeg</div><tr><td class=\"bold l pu\"><a name=\"91826300\"></a><a name=\"msg91826300\"></a><a name=\"5998585.14\"></a><a href=\"/5998585/bbnaija-2020-live-updates-thread#91826300\">Re: BBNaija 2020 Live Updates Thread</a> by <a class=\"user\" href=\"/losc\">LosC</a>: <span class=\"s\"><b>12:54am</b> On <b>Jul 18</b></span><tr><td class=\"l w pd\" id=\"pb91826300\"><div class=\"narrow\"><b>Another season of IMMORAL NAIJA SHOW. <br/>And people will foolishly waste their money and airtime voting</b></div><p class=\"s\"> <b id=\"lpt91826300\">100 Likes </b> <b id=\"shb91826300\"> 1 Share</b><tr><td class=\"bold l pu\"><a name=\"91826397\"></a><a name=\"msg91826397\"></a><a name=\"5998585.15\"></a><a href=\"/5998585/bbnaija-2020-live-updates-thread#91826397\">Re: BBNaija 2020 Live Updates Thread</a> by <a class=\"user\" href=\"/monsuratulatu\">Monsuratulatu</a>: <span class=\"s\"><b>1:09am</b> On <b>Jul 18</b></span><tr><td class=\"l w pd\" id=\"pb91826397\"><div class=\"narrow\">Following...</div><p class=\"s\"> <b id=\"lpt91826397\">9 Likes </b> <b id=\"shb91826397\"> 2 Shares</b><tr><td class=\"bold l pu\"><a name=\"91826480\"></a><a name=\"msg91826480\"></a><a name=\"5998585.16\"></a><a href=\"/5998585/bbnaija-2020-live-updates-thread#91826480\">Re: BBNaija 2020 Live Updates Thread</a> by <a class=\"user\" href=\"/dannyxy\">Dannyxy</a>(<span class=\"m\">m</span>): <span class=\"s\"><b>1:22am</b> On <b>Jul 18</b></span><tr><td class=\"l w pd\" id=\"pb91826480\"><div class=\"narrow\">After all the gra gra of the first day, we will come to start talking business...</div><p class=\"s\"> <b id=\"lpt91826480\">1 Like </b> <b id=\"shb91826480\"></b><tr><td class=\"bold l pu\"><a name=\"91826643\"></a><a name=\"msg91826643\"></a><a name=\"5998585.17\"></a><a href=\"/5998585/bbnaija-2020-live-updates-thread#91826643\">Re: BBNaija 2020 Live Updates Thread</a> by <a class=\"user\" href=\"/shallypop\">Shallypop</a>(<span class=\"f\">f</span>): <span class=\"s\"><b>1:50am</b> On <b>Jul 18</b></span><tr><td class=\"l w pd\" id=\"pb91826643\"><div class=\"narrow\">Team female winner.</div><p class=\"s\"> <b id=\"lpt91826643\">6 Likes </b> <b id=\"shb91826643\"> 2 Shares</b><tr><td class=\"bold l pu\"><a name=\"91827398\"></a><a name=\"msg91827398\"></a><a name=\"5998585.18\"></a><a href=\"/5998585/bbnaija-2020-live-updates-thread#91827398\">Re: BBNaija 2020 Live Updates Thread</a> by <a class=\"user\" href=\"/benuejosh\" title=\"Location: Earth. \">benuejosh</a>(<span class=\"m\">m</span>): <span class=\"s\"><b>4:08am</b> On <b>Jul 18</b></span><tr><td class=\"l w pd\" id=\"pb91827398\"><div class=\"narrow\">Watching from Nairaland.</div><p class=\"s\"> <b id=\"lpt91827398\">6 Likes </b> <b id=\"shb91827398\"> 2 Shares</b><tr><td class=\"bold l pu\"><a name=\"91827417\"></a><a name=\"msg91827417\"></a><a name=\"5998585.19\"></a><a href=\"/5998585/bbnaija-2020-live-updates-thread#91827417\">Re: BBNaija 2020 Live Updates Thread</a> by <a class=\"user\" href=\"/benuejosh\" title=\"Location: Earth. \">benuejosh</a>(<span class=\"m\">m</span>): <span class=\"s\"><b>4:12am</b> On <b>Jul 18</b></span><tr><td class=\"l w pd\" id=\"pb91827417\"><div class=\"narrow\"><blockquote><a href=\"/post/91826201\"><b>Slynation</b></a></blockquote></div></td></tr></td></tr></p></td></tr></td></tr></p></td></tr></td></tr></p></td></tr></td></tr></p></td></tr></td></tr></p></td></tr></td></tr></td></tr></td></tr></td></tr></td></tr></p></td></tr></td></tr>:<br/>I heard one descendant of bobrisky is going to the house.... \"Jay boogie\" as a male or female??  He will be the first to leave the house. I trust Nigerians. #prediction.<p class=\"s\"> <b id=\"lpt91827417\">31 Likes </b> <b id=\"shb91827417\"> 1 Share</b><tr><td class=\"bold l pu\"><a name=\"91827973\"></a><a name=\"msg91827973\"></a><a name=\"5998585.20\"></a><a href=\"/5998585/bbnaija-2020-live-updates-thread#91827973\">Re: BBNaija 2020 Live Updates Thread</a> by <a class=\"user\" href=\"/olodo24\" title=\"Location: Port Harcourt \">Olodo24</a>: <span class=\"s\"><b>5:28am</b> On <b>Jul 18</b></span><tr><td class=\"l w pd\" id=\"pb91827973\"><div class=\"narrow\"><blockquote><a href=\"/post/91827417\"><b>benuejosh</b></a></blockquote></div></td></tr></td></tr></p>:<br/> He will be the first to leave the house. I trust Nigerians. #prediction.  he's not even a housemate. Shim was chasing clout with the BBN post<p class=\"s\"> <b id=\"lpt91827973\">11 Likes </b> <b id=\"shb91827973\"> 1 Share</b><tr><td class=\"bold l pu\"><a name=\"91827981\"></a><a name=\"msg91827981\"></a><a name=\"5998585.21\"></a><a href=\"/5998585/bbnaija-2020-live-updates-thread#91827981\">Re: BBNaija 2020 Live Updates Thread</a> by <a class=\"user\" href=\"/olodo24\" title=\"Location: Port Harcourt \">Olodo24</a>: <span class=\"s\"><b>5:29am</b> On <b>Jul 18</b></span><tr><td class=\"l w pd\" id=\"pb91827981\"><div class=\"narrow\">It's a wrap for Mercy, Tacha and Co. Life</div><p class=\"s\"> <b id=\"lpt91827981\">28 Likes </b> <b id=\"shb91827981\"></b><tr><td class=\"bold l pu\"><a name=\"91828453\"></a><a name=\"msg91828453\"></a><a name=\"5998585.22\"></a><a href=\"/5998585/bbnaija-2020-live-updates-thread#91828453\">Re: BBNaija 2020 Live Updates Thread</a> by <a class=\"user\" href=\"/meobizy\" title=\"Location: PHCity. Nigeria.\">meobizy</a>(<span class=\"m\">m</span>): <span class=\"s\"><b>6:17am</b> On <b>Jul 18</b></span><tr><td class=\"l w pd\" id=\"pb91828453\"><div class=\"narrow\"><span style=\"font-size: 12pt;\">This troll is back again? Only you will open BBNaija threads and still troll them to ensure they reach a high view count. I’m sure that Yoruba boy pays you for the effort. This time I’ll focus my mind on ways to get money during the lockdown. My account balance needs the padding.</span></div><p class=\"s\"> <b id=\"lpt91828453\">16 Likes </b> <b id=\"shb91828453\"> 1 Share</b><tr><td class=\"bold l pu\"><a name=\"91829408\"></a><a name=\"msg91829408\"></a><a name=\"5998585.23\"></a><a href=\"/5998585/bbnaija-2020-live-updates-thread#91829408\">Re: BBNaija 2020 Live Updates Thread</a> by <a class=\"user\" href=\"/munzy14\">Munzy14</a>(<span class=\"m\">m</span>): <span class=\"s\"><b>7:15am</b> On <b>Jul 18</b></span><tr><td class=\"l w pd\" id=\"pb91829408\"><div class=\"narrow\"><blockquote><a href=\"/post/91825769\"><b>vizkiz</b></a></blockquote></div></td></tr></td></tr></p></td></tr></td></tr></p></td></tr></td></tr></p>:<br/><span style=\"color:#000099;\"><span style=\"font-family: Lucida Sans Unicode;\"><b><i>Y’all know how we do it every year. Make una start to dey come out.  <img alt=\"grin\" border=\"0\" class=\"faces\" src=\"https://www.nairaland.com/faces/grin.png\"/> </i></b></span></span><br/><br/><br/><br/><br/><span style=\"color:#000099;\"><span style=\"font-family: Lucida Sans Unicode;\"><b><i>No permanent enemy here. <br/><br/>Please bury your brawl from last season. “When a new season starts, old ones are passed away”  <img alt=\"grin\" border=\"0\" class=\"faces\" src=\"https://www.nairaland.com/faces/grin.png\"/> </i></b></span></span>The man!...kushykush<br/><br/>Me and my team this year...I pray for more free time to acess here plus an entertaining one like Pepper dem.<br/><br/>cc oshe11, nazablossom , Should where una deh...<img alt=\"cheesy\" border=\"0\" class=\"faces\" src=\"https://www.nairaland.com/faces/cheesy.png\"/><p class=\"s\"> <b id=\"lpt91829408\">3 Likes </b> <b id=\"shb91829408\"></b><p><img class=\"attachmentimage img\" src=\"https://www.nairaland.com/attachments/11949871_img20200316224204_jpega87515e17f5d40513bcd2263387f2d6a\"/> <tr><td class=\"bold l pu\"><a name=\"91832661\"></a><a name=\"msg91832661\"></a><a name=\"5998585.24\"></a><a href=\"/5998585/bbnaija-2020-live-updates-thread#91832661\">Re: BBNaija 2020 Live Updates Thread</a> by <a class=\"user\" href=\"/kimbrielle\" title=\"Location: Bermuda Triangle\">Kimbrielle</a>(<span class=\"f\">f</span>): <span class=\"s\"><b>9:16am</b> On <b>Jul 18</b></span><tr><td class=\"l w pd\" id=\"pb91832661\"><div class=\"narrow\"><blockquote><a href=\"/post/91826201\"><b>Slynation</b></a></blockquote></div></td></tr></td></tr></p></p>:<br/>I heard one descendant of bobrisky is going to the house.... \"Jay boogie\" as a male or female?? Na lie.<br/>You cannot know the contestants until it starts <img alt=\"cheesy\" border=\"0\" class=\"faces\" src=\"https://www.nairaland.com/faces/cheesy.png\"/><p class=\"s\"> <b id=\"lpt91832661\">16 Likes </b> <b id=\"shb91832661\"></b><tr><td class=\"bold l pu\"><a name=\"91832686\"></a><a name=\"msg91832686\"></a><a name=\"5998585.25\"></a><a href=\"/5998585/bbnaija-2020-live-updates-thread#91832686\">Re: BBNaija 2020 Live Updates Thread</a> by <a class=\"user\" href=\"/kimbrielle\" title=\"Location: Bermuda Triangle\">Kimbrielle</a>(<span class=\"f\">f</span>): <span class=\"s\"><b>9:17am</b> On <b>Jul 18</b></span><tr><td class=\"l w pd\" id=\"pb91832686\"><div class=\"narrow\"><blockquote><a href=\"/post/91826643\"><b>Shallypop</b></a></blockquote></div></td></tr></td></tr></p>:<br/>Team female winner. Yes ooo.<br/><br/>Which amazing lady will I stan this year  <img alt=\"cool\" border=\"0\" class=\"faces\" src=\"https://www.nairaland.com/faces/cool.png\"/><p class=\"s\"> <b id=\"lpt91832686\">7 Likes </b> <b id=\"shb91832686\"> 1 Share</b><tr><td class=\"bold l pu\"><a name=\"91833035\"></a><a name=\"msg91833035\"></a><a name=\"5998585.26\"></a><a href=\"/5998585/bbnaija-2020-live-updates-thread#91833035\">Re: BBNaija 2020 Live Updates Thread</a> by <a class=\"user\" href=\"/switlily25\">switlily25</a>(<span class=\"f\">f</span>): <span class=\"s\"><b>9:28am</b> On <b>Jul 18</b></span><tr><td class=\"l w pd\" id=\"pb91833035\"><div class=\"narrow\"><blockquote><a href=\"/post/91825769\"><b>vizkiz</b></a></blockquote></div></td></tr></td></tr></p>:<br/><span style=\"color:#000099;\"><span style=\"font-family: Lucida Sans Unicode;\"><b><i>Y’all know how we do it every year. Make una start to dey come out.  <img alt=\"grin\" border=\"0\" class=\"faces\" src=\"https://www.nairaland.com/faces/grin.png\"/> </i></b></span></span><br/><br/><br/><br/><br/><span style=\"color:#000099;\"><span style=\"font-family: Lucida Sans Unicode;\"><b><i>No permanent enemy here. <br/><br/>Please bury your brawl from last season. “When a new season starts, old ones are passed away”  <img alt=\"grin\" border=\"0\" class=\"faces\" src=\"https://www.nairaland.com/faces/grin.png\"/> </i></b></span></span>Aye Aye captain!!!<p class=\"s\"> <b id=\"lpt91833035\">4 Likes </b> <b id=\"shb91833035\"></b><p><img class=\"attachmentimage img\" src=\"https://www.nairaland.com/attachments/11950560_img20200620112912_jpeg6c6933c3a081b65559cd34e9fd895d88\"/> <tr><td class=\"bold l pu\"><a name=\"91833058\"></a><a name=\"msg91833058\"></a><a name=\"5998585.27\"></a><a href=\"/5998585/bbnaija-2020-live-updates-thread#91833058\">Re: BBNaija 2020 Live Updates Thread</a> by <a class=\"user\" href=\"/switlily25\">switlily25</a>(<span class=\"f\">f</span>): <span class=\"s\"><b>9:28am</b> On <b>Jul 18</b></span><tr><td class=\"l w pd\" id=\"pb91833058\"><div class=\"narrow\">Hello everyone!!</div><p class=\"s\"> <b id=\"lpt91833058\">10 Likes </b> <b id=\"shb91833058\"> 1 Share</b><p><img class=\"attachmentimage img\" src=\"https://www.nairaland.com/attachments/11950564_img20200630203941_jpeg529db3aabc45caa7682a7f64ea7b0e48\"/> <tr><td class=\"bold l pu\"><a name=\"91833133\"></a><a name=\"msg91833133\"></a><a name=\"5998585.28\"></a><a href=\"/5998585/bbnaija-2020-live-updates-thread#91833133\">Re: BBNaija 2020 Live Updates Thread</a> by <a class=\"user\" href=\"/switlily25\">switlily25</a>(<span class=\"f\">f</span>): <span class=\"s\"><b>9:31am</b> On <b>Jul 18</b></span><tr><td class=\"l w pd\" id=\"pb91833133\"><div class=\"narrow\"><blockquote><a href=\"/post/91832686\"><b>Kimbrielle</b></a></blockquote></div></td></tr></td></tr></p></p></td></tr></td></tr></p></p>:<br/><br/>Yes ooo.<br/><br/>Which amazing lady will I stan this year  <img alt=\"cool\" border=\"0\" class=\"faces\" src=\"https://www.nairaland.com/faces/cool.png\"/>Let's see how it goes... <img alt=\"grin\" border=\"0\" class=\"faces\" src=\"https://www.nairaland.com/faces/grin.png\"/><p class=\"s\"> <b id=\"lpt91833133\">4 Likes </b> <b id=\"shb91833133\"></b><p><img class=\"attachmentimage img\" src=\"https://www.nairaland.com/attachments/11950575_img20200707201527_jpegade14dbc8d2300511ca526581562fe6c\"/> <tr><td class=\"bold l pu\"><a name=\"91833168\"></a><a name=\"msg91833168\"></a><a name=\"5998585.29\"></a><a href=\"/5998585/bbnaija-2020-live-updates-thread#91833168\">Re: BBNaija 2020 Live Updates Thread</a> by <a class=\"user\" href=\"/kimbrielle\" title=\"Location: Bermuda Triangle\">Kimbrielle</a>(<span class=\"f\">f</span>): <span class=\"s\"><b>9:32am</b> On <b>Jul 18</b></span><tr><td class=\"l w pd\" id=\"pb91833168\"><div class=\"narrow\"><blockquote><a href=\"/post/91833133\"><b>switlily25</b></a></blockquote></div></td></tr></td></tr></p></p>:<br/><br/>Let's see how it goes... <img alt=\"grin\" border=\"0\" class=\"faces\" src=\"https://www.nairaland.com/faces/grin.png\"/>Welcome love.<br/><br/>Make we mark register for here <img alt=\"grin\" border=\"0\" class=\"faces\" src=\"https://www.nairaland.com/faces/grin.png\"/> <img alt=\"grin\" border=\"0\" class=\"faces\" src=\"https://www.nairaland.com/faces/grin.png\"/><br/><br/>Tomorrow it begins <img alt=\"cool\" border=\"0\" class=\"faces\" src=\"https://www.nairaland.com/faces/cool.png\"/><p class=\"s\"> <b id=\"lpt91833168\">3 Likes </b> <b id=\"shb91833168\"></b><tr><td class=\"bold l pu\"><a name=\"91833980\"></a><a name=\"msg91833980\"></a><a name=\"5998585.30\"></a><a href=\"/5998585/bbnaija-2020-live-updates-thread#91833980\">Re: BBNaija 2020 Live Updates Thread</a> by <a class=\"user\" href=\"/switlily25\">switlily25</a>(<span class=\"f\">f</span>): <span class=\"s\"><b>9:54am</b> On <b>Jul 18</b></span><tr><td class=\"l w pd\" id=\"pb91833980\"><div class=\"narrow\"><blockquote><a href=\"/post/91833168\"><b>Kimbrielle</b></a></blockquote></div></td></tr></td></tr></p>:<br/><br/>Welcome love.<br/><br/>Make we mark register for here <img alt=\"grin\" border=\"0\" class=\"faces\" src=\"https://www.nairaland.com/faces/grin.png\"/> <img alt=\"grin\" border=\"0\" class=\"faces\" src=\"https://www.nairaland.com/faces/grin.png\"/><br/><br/>Tomorrow it begins <img alt=\"cool\" border=\"0\" class=\"faces\" src=\"https://www.nairaland.com/faces/cool.png\"/>My love!!!<br/>My yori yori tythan! <img alt=\"grin\" border=\"0\" class=\"faces\" src=\"https://www.nairaland.com/faces/grin.png\"/><br/>I don land o!<br/>I don officially mark our register!!!<br/>No tyme!<p class=\"s\"> <b id=\"lpt91833980\">9 Likes </b> <b id=\"shb91833980\"> 2 Shares</b><p><img class=\"attachmentimage img\" src=\"https://www.nairaland.com/attachments/11950713_img20200717191036_jpegb5db7e89f125cd6e60ec434b4e8f55d1\"/> <tr><td class=\"bold l pu\"><a name=\"91834624\"></a><a name=\"msg91834624\"></a><a name=\"5998585.31\"></a><a href=\"/5998585/bbnaija-2020-live-updates-thread#91834624\">Re: BBNaija 2020 Live Updates Thread</a> by <a class=\"user\" href=\"/chocodairy\">Chocodairy</a>: <span class=\"s\"><b>10:13am</b> On <b>Jul 18</b></span><tr><td class=\"l w pd\" id=\"pb91834624\"><div class=\"narrow\">Okrrrrr</div></td></tr></td></tr></p></p><div class=\"nocopy\"><p><b>(1)</b> <a href=\"/5998585/bbnaija-2020-live-updates-thread/1\">(2)</a> <a href=\"/5998585/bbnaija-2020-live-updates-thread/2\">(3)</a> <a href=\"/5998585/bbnaija-2020-live-updates-thread/3\">(4)</a> <a href=\"/5998585/bbnaija-2020-live-updates-thread/4\">(5)</a> <a href=\"/5998585/bbnaija-2020-live-updates-thread/5\">(6)</a> <a href=\"/5998585/bbnaija-2020-live-updates-thread/6\">(7)</a> <a href=\"/5998585/bbnaija-2020-live-updates-thread/7\">(8)</a> <a href=\"/5998585/bbnaija-2020-live-updates-thread/8\">(9)</a> <a href=\"/5998585/bbnaija-2020-live-updates-thread/9\">(10)</a> ...  <a href=\"/5998585/bbnaija-2020-live-updates-thread/595\">(596)</a>  (<a href=\"https://www.nairaland.com/newpost?topic=5998585\"><b>Reply</b></a>) <div class=\"vertipics\"><a href=\"/hopto/tv-movies/11887\" rel=\"nofollow\"><img src=\"https://www.nairaland.com/vertipics/a5g69elnhk2ukv5dr6fnm27i4kkbl0qa.jpg\"/></a><a href=\"/hopto/tv-movies/12058\" rel=\"nofollow\"><img src=\"https://www.nairaland.com/vertipics/x71ggdzyo20h2vzr61p10b032j4cbw8u.png\"/></a><a href=\"/hopto/tv-movies/11999\" rel=\"nofollow\"><img src=\"https://www.nairaland.com/vertipics/4l4s2ovu6q0a6w8p0sidk3ucc1cu7utv.jpg\"/></a></div><p> <a href=\"/5809/some-nigeria-movie-stars-profile\">Some Nigeria Movie Stars Profile</a>  /  <a href=\"/1386303/website-downloading-korean-movies-free\">Website For Downloading Korean Movies For Free..,</a>  /  <a href=\"/25698/watch-nigerian-movies-online-free\">Watch Nigerian Movies Online For Free</a> <p class=\"nocopy\">Viewing this topic: Omotaday(<span class=\"m\">m</span>), Bonzoker(<span class=\"m\">m</span>), Ibukzy(<span class=\"m\">m</span>), Panther7(<span class=\"m\">m</span>), nazablossom(<span class=\"f\">f</span>), chic2pimp(<span class=\"m\">m</span>), Nexus25(<span class=\"m\">m</span>), Zoroaster, Aadunni, mcbliss2, Origamist, Dansuqi, adaericprin(<span class=\"f\">f</span>), JSparrow(<span class=\"m\">m</span>), alekside(<span class=\"m\">m</span>), ebonyjumi(<span class=\"f\">f</span>), Izykid10(<span class=\"m\">m</span>), gameboy727(<span class=\"m\">m</span>), tng(<span class=\"f\">f</span>), ArewaWife, MumIbeji(<span class=\"f\">f</span>), EdmundAlma, Afrosage, tolurx(<span class=\"m\">m</span>), tegax(<span class=\"m\">m</span>), phoenix33, Chiefheywhy(<span class=\"m\">m</span>), SheWrites(<span class=\"f\">f</span>), AmazonTopaz, larkz(<span class=\"m\">m</span>), QuietHammer(<span class=\"m\">m</span>), Nonso37(<span class=\"f\">f</span>), styrese, Berrywinky(<span class=\"m\">m</span>), Dessdess, Trailblazer93(<span class=\"m\">m</span>), customizedme, schoolreal1(<span class=\"m\">m</span>), olamidebaby, Dreyyy, Chidonsky, DamonSalvatore, gbemmie09(<span class=\"f\">f</span>), teamsynergy, Chimpretty, stanisbaratheon, Miremoses1(<span class=\"m\">m</span>), realtalk19(<span class=\"f\">f</span>), mosedgreat(<span class=\"m\">m</span>), reigncalif1, codedguy1(<span class=\"m\">m</span>), Beze992(<span class=\"f\">f</span>), ChristoBam, Hatima, Mannylex(<span class=\"m\">m</span>), Shinningstar201, toludadon(<span class=\"m\">m</span>), aroundnaija, Dohyn3(<span class=\"f\">f</span>), pinkpebbles(<span class=\"f\">f</span>), Geezeem, meobizy(<span class=\"m\">m</span>), Cerebralbeing, Divsy(<span class=\"f\">f</span>), NIKEDEEDS(<span class=\"m\">m</span>), odion81(<span class=\"f\">f</span>), Fiisty(<span class=\"f\">f</span>), Prettypinkyy, Oluwapomile1, Borntolovewomen, cynic411(<span class=\"f\">f</span>), Zizim, Sugahylz(<span class=\"f\">f</span>), Samelle(<span class=\"f\">f</span>), Iamsegzy25, Maduawuchukwu(<span class=\"m\">m</span>), texas1(<span class=\"m\">m</span>), thatigboman, Liposure(<span class=\"m\">m</span>), goldenone(<span class=\"f\">f</span>), goldensoul55, yunafa(<span class=\"f\">f</span>), Euphoria19(<span class=\"f\">f</span>), ChocolateBunny, Kayceesings(<span class=\"m\">m</span>), bennyblings(<span class=\"m\">m</span>), iKnee, IfeMiLove, Meksbig(<span class=\"m\">m</span>), ptreasure(<span class=\"f\">f</span>), Eeghe(<span class=\"f\">f</span>), InSanety, Lazyyouth4u, Akorkor(<span class=\"f\">f</span>), lajid, Ewoma45(<span class=\"f\">f</span>), Ograke(<span class=\"m\">m</span>), Sleekyshuga(<span class=\"f\">f</span>), Vintagee, SpaceX, Dockybae, freshboi88, pauljustina(<span class=\"f\">f</span>), Mimisboygreat(<span class=\"m\">m</span>), Tonalphs(<span class=\"f\">f</span>), JhayJoe, handelex(<span class=\"m\">m</span>), Pweetiebabe(<span class=\"f\">f</span>) and 56 guest(s)<p class=\"small\">(<a href=\"#up\"><b>Go Up</b></a>)<p><table id=\"down\"><tr><td class=\"small w grad\"><p><form action=\"/search\"> <input name=\"q\" size=\"32\" type=\"text\"/>\n",
       "<input name=\"search\" type=\"submit\" value=\"Search\"/></form>Sections:  <a href=\"/politics\">politics</a> <a href=\"/politics/1\">(1)</a> <a href=\"/business\">business</a> <a href=\"/autos\">autos</a> <a href=\"/autos/1\">(1)</a> <a href=\"/jobs\">jobs</a> <a href=\"/jobs/1\">(1)</a> <a href=\"/career\">career</a> <a href=\"/education\">education</a> <a href=\"/education/1\">(1)</a> <a href=\"/romance\">romance</a> <a href=\"/computers\">computers</a> <a href=\"/phones\">phones</a> <a href=\"/travel\">travel</a> <a href=\"/sports\">sports</a> <a href=\"/fashion\">fashion</a> <a href=\"/health\">health</a> <br/> <a href=\"/religion\">religion</a> <a href=\"/celebs\">celebs</a> <a href=\"/tv-movies\">tv-movies</a> <a href=\"/music-radio\">music-radio</a> <a href=\"/literature\">literature</a> <a href=\"/webmasters\">webmasters</a> <a href=\"/programming\">programming</a> <a href=\"/techmarket\">techmarket</a> <p>Links:  <a href=\"/news\" title=\"Page 1, Nairaland News \">(1)</a> <a href=\"/news/1\" title=\"Page 2, Nairaland News \">(2)</a> <a href=\"/news/2\" title=\"Page 3, Nairaland News \">(3)</a> <a href=\"/news/3\" title=\"Page 4, Nairaland News \">(4)</a> <a href=\"/news/4\" title=\"Page 5, Nairaland News \">(5)</a> <a href=\"/news/5\" title=\"Page 6, Nairaland News \">(6)</a> <a href=\"/news/6\" title=\"Page 7, Nairaland News \">(7)</a> <a href=\"/news/7\" title=\"Page 8, Nairaland News \">(8)</a> <a href=\"/news/8\" title=\"Page 9, Nairaland News \">(9)</a> <a href=\"/news/9\" title=\"Page 10, Nairaland News \">(10)</a> <p><b><a href=\"/\" title=\"Nigerian Forum\">Nairaland</a></b> - Copyright © 2005 - 2020 <a href=\"http://www.seunosewa.com\" title=\"Seun\">Oluwaseun Osewa</a>. All rights reserved. See <a href=\"https://www.nairaland.com/1049481/how-place-targeted-ads-nairaland\">How To Advertise</a>. 281<br/><b>Disclaimer</b>: Every Nairaland member is <b>solely responsible</b> for <b>anything</b> that he/she <b>posts</b> or <b>uploads</b> on Nairaland.</p></p></p></td></tr></table></p></p></p></p></p></div><script>\n",
       "  (function(i,s,o,g,r,a,m){i['GoogleAnalyticsObject']=r;i[r]=i[r]||function(){\n",
       "  (i[r].q=i[r].q||[]).push(arguments)},i[r].l=1*new Date();a=s.createElement(o),\n",
       "  m=s.getElementsByTagName(o)[0];a.async=1;a.src=g;m.parentNode.insertBefore(a,m)\n",
       "  })(window,document,'script','https://www.google-analytics.com/analytics.js','ga');\n",
       "\n",
       "  ga('create', 'UA-91638-1', 'auto');\n",
       "  ga('send', 'pageview');\n",
       "\n",
       "</script><script src=\"https://www.nairaland.com/static/nl2.js/305013519407\" type=\"text/javascript\"></script>"
      ]
     },
     "execution_count": 169,
     "metadata": {},
     "output_type": "execute_result"
    }
   ],
   "source": [
    "nl_soup"
   ]
  },
  {
   "cell_type": "code",
   "execution_count": 170,
   "metadata": {},
   "outputs": [
    {
     "data": {
      "text/plain": [
       "'\\n<a class=\"user\" href=\"/vizkiz\" title=\"Location: Lagos Nigeria\">vizkiz</a>\\n<span class=\"s\"><b>12:01am</b> On <b>Jul 18</b></span>\\n<tr><td class=\"l w pd\" id=\"pb91825753\"><div class=\"narrow\"><i\\n'"
      ]
     },
     "execution_count": 170,
     "metadata": {},
     "output_type": "execute_result"
    }
   ],
   "source": [
    "\"\"\"\n",
    "<a class=\"user\" href=\"/vizkiz\" title=\"Location: Lagos Nigeria\">vizkiz</a>\n",
    "<span class=\"s\"><b>12:01am</b> On <b>Jul 18</b></span>\n",
    "<tr><td class=\"l w pd\" id=\"pb91825753\"><div class=\"narrow\"><i\n",
    "\"\"\""
   ]
  },
  {
   "cell_type": "code",
   "execution_count": 171,
   "metadata": {},
   "outputs": [],
   "source": [
    "users_ = nl_soup.findAll(\"a\", {\"class\":\"user\"}, recursive=True)\n",
    "posts_ = nl_soup.findAll(\"div\", {\"class\":\"narrow\"}, recursive=True)\n",
    "timestamps_ = nl_soup.findAll(\"span\", {\"class\":\"s\"}, recursive=True)"
   ]
  },
  {
   "cell_type": "code",
   "execution_count": 11,
   "metadata": {},
   "outputs": [],
   "source": [
    "dl_name = []\n",
    "dl_loc = []"
   ]
  },
  {
   "cell_type": "code",
   "execution_count": 12,
   "metadata": {},
   "outputs": [],
   "source": [
    "import re"
   ]
  },
  {
   "cell_type": "code",
   "execution_count": 13,
   "metadata": {},
   "outputs": [],
   "source": [
    "def clean_text(text):\n",
    "    \"\"\"Remove html tags from a string and fetch the text\"\"\"\n",
    "    clean = re.compile('<.*?>')\n",
    "    new_clean = re.sub(clean, '', text)\n",
    "    text = \" \".join(re.findall(\"[A-Za-z]+\", new_clean))\n",
    "    return text"
   ]
  },
  {
   "cell_type": "code",
   "execution_count": 81,
   "metadata": {},
   "outputs": [],
   "source": [
    "import time\n",
    "import csv\n",
    "from datetime import datetime"
   ]
  },
  {
   "cell_type": "code",
   "execution_count": 82,
   "metadata": {},
   "outputs": [],
   "source": [
    "def log_error(page_link, error_status):\n",
    "    today, now = datetime.today(), datetime.now()\n",
    "\n",
    "    #create directory for storing logs for the day\n",
    "    directory = 'errorlog_'+str(today.day)+'_'+str(today.strftime(\"%b\")).lower()+'_'+str(today.year)\n",
    "    if not os.path.exists(directory):\n",
    "        os.makedirs(directory)\n",
    "\n",
    "    logged_link = str(page_link)\n",
    "    error_type = str(error_status)\n",
    "    error_csv = [str(today), str(now.hour)+':'+str(now.minute)+':'+str(now.second),str(logged_link),str(error_type)]\n",
    "    error_file = open(str(directory)+'/log_error_'+str(directory)+'.csv', 'a')\n",
    "    with error_file:\n",
    "        writer = csv.writer(error_file)\n",
    "        writer.writerow(error_csv)\n",
    "    return"
   ]
  },
  {
   "cell_type": "code",
   "execution_count": 123,
   "metadata": {},
   "outputs": [],
   "source": [
    "from datetime import datetime\n",
    "import csv\n",
    "import json\n",
    "import os\n",
    "\n",
    "def output_file(domain, user_details):\n",
    "    print(\"Exporting your products to file\")\n",
    "    today = datetime.now()\n",
    "\n",
    "    #creates folder to save scraped data for today\n",
    "    directory = 'Task_'+str(today.day)+'_'+str(today.strftime(\"%b\")).lower()+'_'+str(today.year)\n",
    "    if not os.path.exists(directory):\n",
    "        os.makedirs(directory)\n",
    "\n",
    "    output_file_json = str(directory)+'/'+str(domain) + '_details_'+str(directory)+'.json'\n",
    "    with open(output_file_json, 'w') as outfile:\n",
    "        json.dump(user_details, outfile)\n",
    "    return"
   ]
  },
  {
   "cell_type": "code",
   "execution_count": 219,
   "metadata": {},
   "outputs": [],
   "source": [
    "scraped_pages = []\n",
    "user_details = []\n",
    "domain_name = \"https://www.nairaland.com/5998585/bbnaija-2020-live-updates-thread/\"\n",
    "\n",
    "\n",
    "def timeout(t_in_s):\n",
    "    #timeout for provided time(seconds) + 5 seconds more\n",
    "    time.sleep(int(t_in_s) + 5)\n",
    "    \n",
    "\n",
    "def Nl_Ban_Scraper(page_link, paginated_no=None):\n",
    "    if paginated_no:\n",
    "        nl_url = str(page_link)+str(paginated_no)\n",
    "    nl_url = str(page_link)\n",
    "    timeout(5) #chill for 10s\n",
    "    \n",
    "    if nl_url not in scraped_pages:\n",
    "        scraped_pages.append(nl_url)\n",
    "        nl_scrape = requests.get(str(nl_url), headers=spook_header())\n",
    "        nl_soup = bs(nl_scrape.content, \"html.parser\")\n",
    "        users_ = nl_soup.findAll(\"a\", {\"class\":\"user\"}, recursive=True)\n",
    "        posts_ = nl_soup.findAll(\"div\", {\"class\":\"narrow\"}, recursive=True)\n",
    "        timestamps_ = nl_soup.findAll(\"span\", {\"class\":\"s\"}, recursive=True)\n",
    "        for usr_,post_,datetime_ in zip(users_, posts_, timestamps_):\n",
    "        #fetch user details('username', 'datetime', and 'location')\n",
    "            try:\n",
    "                datetime = datetime_.text.split(\" \")\n",
    "                time_, date_= str(datetime[0]), str(datetime[2] + datetime[3])\n",
    "                if usr_.text:\n",
    "                    username = str(usr_.text)\n",
    "                else:\n",
    "                    username = \"User Deleted\"\n",
    "                \n",
    "                post = _clean_post(post_)\n",
    "                location = str(usr_[\"title\"].split(\" \")[1:])\n",
    "            \n",
    "            except KeyError:\n",
    "                location = \"No location\"\n",
    "#                 continue\n",
    "            except Exception:\n",
    "                pass\n",
    "\n",
    "            finally:\n",
    "                user_details.append({\n",
    "                    'username': username,\n",
    "                    'location': clean_text(location),\n",
    "                    'post': post,\n",
    "                    'time': time_,\n",
    "                    'date': date_\n",
    "                    })\n",
    "                \n",
    "\n",
    "        #Handle pagination (Nairaland doesn't have a dedicated next button to do something like)\n",
    "        #pageNextLink instead we increment page number\n",
    "        output_file(\"NL\", user_details)\n",
    "        users_, posts_, timestamps_ = [], [], [] #empty users, posts and timestamps\n",
    "        _paginated_no = len(scraped_pages)\n",
    "        next_url_to_scrape = str(domain_name) + str(_paginated_no)\n",
    "        timeout(55) #chill for 60s\n",
    "        Nl_Ban_Scraper(next_url_to_scrape)\n",
    "        \n",
    "    else:\n",
    "        #log issues(missing/invalid/already scraped pagelink)\n",
    "        log_error(page_link, 'Pagination issues')\n",
    "        output_file(\"domain\", user_details)\n",
    "        timeout(3)\n",
    "        return\n",
    "    return"
   ]
  },
  {
   "cell_type": "code",
   "execution_count": 220,
   "metadata": {},
   "outputs": [
    {
     "name": "stdout",
     "output_type": "stream",
     "text": [
      "Exporting your products to file\n"
     ]
    },
    {
     "ename": "KeyboardInterrupt",
     "evalue": "",
     "output_type": "error",
     "traceback": [
      "\u001b[0;31m---------------------------------------------------------------------------\u001b[0m",
      "\u001b[0;31mKeyboardInterrupt\u001b[0m                         Traceback (most recent call last)",
      "\u001b[0;32m<ipython-input-220-e775e1a6b3ae>\u001b[0m in \u001b[0;36m<module>\u001b[0;34m\u001b[0m\n\u001b[0;32m----> 1\u001b[0;31m \u001b[0mNl_Ban_Scraper\u001b[0m\u001b[0;34m(\u001b[0m\u001b[0;34m\"https://www.nairaland.com/5998585/bbnaija-2020-live-updates-thread/\"\u001b[0m\u001b[0;34m)\u001b[0m\u001b[0;34m\u001b[0m\u001b[0;34m\u001b[0m\u001b[0m\n\u001b[0m",
      "\u001b[0;32m<ipython-input-219-68f0a46c4ea2>\u001b[0m in \u001b[0;36mNl_Ban_Scraper\u001b[0;34m(page_link, paginated_no)\u001b[0m\n\u001b[1;32m     57\u001b[0m         \u001b[0m_paginated_no\u001b[0m \u001b[0;34m=\u001b[0m \u001b[0mlen\u001b[0m\u001b[0;34m(\u001b[0m\u001b[0mscraped_pages\u001b[0m\u001b[0;34m)\u001b[0m\u001b[0;34m\u001b[0m\u001b[0;34m\u001b[0m\u001b[0m\n\u001b[1;32m     58\u001b[0m         \u001b[0mnext_url_to_scrape\u001b[0m \u001b[0;34m=\u001b[0m \u001b[0mstr\u001b[0m\u001b[0;34m(\u001b[0m\u001b[0mdomain_name\u001b[0m\u001b[0;34m)\u001b[0m \u001b[0;34m+\u001b[0m \u001b[0mstr\u001b[0m\u001b[0;34m(\u001b[0m\u001b[0m_paginated_no\u001b[0m\u001b[0;34m)\u001b[0m\u001b[0;34m\u001b[0m\u001b[0;34m\u001b[0m\u001b[0m\n\u001b[0;32m---> 59\u001b[0;31m         \u001b[0mtimeout\u001b[0m\u001b[0;34m(\u001b[0m\u001b[0;36m55\u001b[0m\u001b[0;34m)\u001b[0m \u001b[0;31m#chill for 60s\u001b[0m\u001b[0;34m\u001b[0m\u001b[0;34m\u001b[0m\u001b[0m\n\u001b[0m\u001b[1;32m     60\u001b[0m         \u001b[0mNl_Ban_Scraper\u001b[0m\u001b[0;34m(\u001b[0m\u001b[0mnext_url_to_scrape\u001b[0m\u001b[0;34m)\u001b[0m\u001b[0;34m\u001b[0m\u001b[0;34m\u001b[0m\u001b[0m\n\u001b[1;32m     61\u001b[0m \u001b[0;34m\u001b[0m\u001b[0m\n",
      "\u001b[0;32m<ipython-input-219-68f0a46c4ea2>\u001b[0m in \u001b[0;36mtimeout\u001b[0;34m(t_in_s)\u001b[0m\n\u001b[1;32m      6\u001b[0m \u001b[0;32mdef\u001b[0m \u001b[0mtimeout\u001b[0m\u001b[0;34m(\u001b[0m\u001b[0mt_in_s\u001b[0m\u001b[0;34m)\u001b[0m\u001b[0;34m:\u001b[0m\u001b[0;34m\u001b[0m\u001b[0;34m\u001b[0m\u001b[0m\n\u001b[1;32m      7\u001b[0m     \u001b[0;31m#timeout for provided time(seconds) + 5 seconds more\u001b[0m\u001b[0;34m\u001b[0m\u001b[0;34m\u001b[0m\u001b[0;34m\u001b[0m\u001b[0m\n\u001b[0;32m----> 8\u001b[0;31m     \u001b[0mtime\u001b[0m\u001b[0;34m.\u001b[0m\u001b[0msleep\u001b[0m\u001b[0;34m(\u001b[0m\u001b[0mint\u001b[0m\u001b[0;34m(\u001b[0m\u001b[0mt_in_s\u001b[0m\u001b[0;34m)\u001b[0m \u001b[0;34m+\u001b[0m \u001b[0;36m5\u001b[0m\u001b[0;34m)\u001b[0m\u001b[0;34m\u001b[0m\u001b[0;34m\u001b[0m\u001b[0m\n\u001b[0m\u001b[1;32m      9\u001b[0m \u001b[0;34m\u001b[0m\u001b[0m\n\u001b[1;32m     10\u001b[0m \u001b[0;34m\u001b[0m\u001b[0m\n",
      "\u001b[0;31mKeyboardInterrupt\u001b[0m: "
     ]
    }
   ],
   "source": [
    "Nl_Ban_Scraper(\"https://www.nairaland.com/5998585/bbnaija-2020-live-updates-thread/\")"
   ]
  },
  {
   "cell_type": "code",
   "execution_count": 221,
   "metadata": {},
   "outputs": [
    {
     "name": "stdout",
     "output_type": "stream",
     "text": [
      "32\n"
     ]
    },
    {
     "data": {
      "text/plain": [
       "[{'username': 'vizkiz',\n",
       "  'location': 'Lagos Nigeria',\n",
       "  'post': 'quote detected',\n",
       "  'time': '12:01am',\n",
       "  'date': 'Jul18'},\n",
       " {'username': 'vizkiz',\n",
       "  'location': 'Lagos Nigeria',\n",
       "  'post': 'quote detected',\n",
       "  'time': '12:02am',\n",
       "  'date': 'Jul18'},\n",
       " {'username': 'homesteady',\n",
       "  'location': 'from kano to kaduna to benin',\n",
       "  'post': 'possible spam detected',\n",
       "  'time': '12:03am',\n",
       "  'date': 'Jul18'},\n",
       " {'username': 'vizkiz',\n",
       "  'location': 'Lagos Nigeria',\n",
       "  'post': 'possible spam detected',\n",
       "  'time': '12:05am',\n",
       "  'date': 'Jul18'},\n",
       " {'username': 'kodded',\n",
       "  'location': 'color b i when will nairaland bring in the b i color color color color Dislike color color color color b i button b i color',\n",
       "  'post': 'possible spam detected',\n",
       "  'time': '12:07am',\n",
       "  'date': 'Jul18'},\n",
       " {'username': 'KamsiViva',\n",
       "  'location': 'No location',\n",
       "  'post': 'The show never start ona don dey rant It s alright let me be chewing my suya first until they post my ex as one of the contestants',\n",
       "  'time': '12:09am',\n",
       "  'date': 'Jul18'},\n",
       " {'username': 'RYANAYO',\n",
       "  'location': 'ITALY',\n",
       "  'post': 'possible spam detected',\n",
       "  'time': '12:27am',\n",
       "  'date': 'Jul18'},\n",
       " {'username': 'seasy',\n",
       "  'location': 'No location',\n",
       "  'post': 'possible spam detected',\n",
       "  'time': '12:27am',\n",
       "  'date': 'Jul18'},\n",
       " {'username': 'RYANAYO',\n",
       "  'location': 'ITALY',\n",
       "  'post': 'days to go',\n",
       "  'time': '12:28am',\n",
       "  'date': 'Jul18'},\n",
       " {'username': 'vizkiz',\n",
       "  'location': 'Lagos Nigeria',\n",
       "  'post': 'quote detected',\n",
       "  'time': '12:32am',\n",
       "  'date': 'Jul18'},\n",
       " {'username': 'vizkiz',\n",
       "  'location': 'Lagos Nigeria',\n",
       "  'post': 'quote detected',\n",
       "  'time': '12:33am',\n",
       "  'date': 'Jul18'},\n",
       " {'username': 'Slynation',\n",
       "  'location': 'Abuja',\n",
       "  'post': 'I heard one descendant of bobrisky is going to the house Jay boogie as a male or female',\n",
       "  'time': '12:41am',\n",
       "  'date': 'Jul18'},\n",
       " {'username': 'LizBathory',\n",
       "  'location': 'No location',\n",
       "  'post': 'possible spam detected',\n",
       "  'time': '12:47am',\n",
       "  'date': 'Jul18'},\n",
       " {'username': '100naira',\n",
       "  'location': 'No location',\n",
       "  'post': 'possible spam detected',\n",
       "  'time': '12:53am',\n",
       "  'date': 'Jul18'},\n",
       " {'username': 'LosC',\n",
       "  'location': 'No location',\n",
       "  'post': 'Another season of IMMORAL NAIJA SHOW And people will foolishly waste their money and airtime voting',\n",
       "  'time': '12:54am',\n",
       "  'date': 'Jul18'},\n",
       " {'username': 'Monsuratulatu',\n",
       "  'location': 'No location',\n",
       "  'post': 'Following',\n",
       "  'time': '1:09am',\n",
       "  'date': 'Jul18'},\n",
       " {'username': 'Dannyxy',\n",
       "  'location': 'No location',\n",
       "  'post': 'After all the gra gra of the first day we will come to start talking business',\n",
       "  'time': '1:22am',\n",
       "  'date': 'Jul18'},\n",
       " {'username': 'Shallypop',\n",
       "  'location': 'No location',\n",
       "  'post': 'Team female winner',\n",
       "  'time': '1:50am',\n",
       "  'date': 'Jul18'},\n",
       " {'username': 'benuejosh',\n",
       "  'location': 'Earth',\n",
       "  'post': 'Watching from Nairaland',\n",
       "  'time': '4:08am',\n",
       "  'date': 'Jul18'},\n",
       " {'username': 'benuejosh',\n",
       "  'location': 'Earth',\n",
       "  'post': 'quote detected',\n",
       "  'time': '4:12am',\n",
       "  'date': 'Jul18'},\n",
       " {'username': 'Olodo24',\n",
       "  'location': 'Port Harcourt',\n",
       "  'post': 'quote detected',\n",
       "  'time': '5:28am',\n",
       "  'date': 'Jul18'},\n",
       " {'username': 'Olodo24',\n",
       "  'location': 'Port Harcourt',\n",
       "  'post': 'It s a wrap for Mercy Tacha and Co Life',\n",
       "  'time': '5:29am',\n",
       "  'date': 'Jul18'},\n",
       " {'username': 'meobizy',\n",
       "  'location': 'PHCity Nigeria',\n",
       "  'post': 'This troll is back again Only you will open BBNaija threads and still troll them to ensure they reach a high view count I m sure that Yoruba boy pays you for the effort This time I ll focus my mind on ways to get money during the lockdown My account balance needs the padding',\n",
       "  'time': '6:17am',\n",
       "  'date': 'Jul18'},\n",
       " {'username': 'Munzy14',\n",
       "  'location': 'No location',\n",
       "  'post': 'quote detected',\n",
       "  'time': '7:15am',\n",
       "  'date': 'Jul18'},\n",
       " {'username': 'Kimbrielle',\n",
       "  'location': 'Bermuda Triangle',\n",
       "  'post': 'quote detected',\n",
       "  'time': '9:16am',\n",
       "  'date': 'Jul18'},\n",
       " {'username': 'Kimbrielle',\n",
       "  'location': 'Bermuda Triangle',\n",
       "  'post': 'quote detected',\n",
       "  'time': '9:17am',\n",
       "  'date': 'Jul18'},\n",
       " {'username': 'switlily25',\n",
       "  'location': 'No location',\n",
       "  'post': 'quote detected',\n",
       "  'time': '9:28am',\n",
       "  'date': 'Jul18'},\n",
       " {'username': 'switlily25',\n",
       "  'location': 'No location',\n",
       "  'post': 'Hello everyone',\n",
       "  'time': '9:28am',\n",
       "  'date': 'Jul18'},\n",
       " {'username': 'switlily25',\n",
       "  'location': 'No location',\n",
       "  'post': 'quote detected',\n",
       "  'time': '9:31am',\n",
       "  'date': 'Jul18'},\n",
       " {'username': 'Kimbrielle',\n",
       "  'location': 'Bermuda Triangle',\n",
       "  'post': 'quote detected',\n",
       "  'time': '9:32am',\n",
       "  'date': 'Jul18'},\n",
       " {'username': 'switlily25',\n",
       "  'location': 'No location',\n",
       "  'post': 'quote detected',\n",
       "  'time': '9:54am',\n",
       "  'date': 'Jul18'},\n",
       " {'username': 'Chocodairy',\n",
       "  'location': 'No location',\n",
       "  'post': 'Okrrrrr',\n",
       "  'time': '10:13am',\n",
       "  'date': 'Jul18'}]"
      ]
     },
     "execution_count": 221,
     "metadata": {},
     "output_type": "execute_result"
    }
   ],
   "source": [
    "print(len(user_details))\n",
    "user_details"
   ]
  },
  {
   "cell_type": "code",
   "execution_count": 69,
   "metadata": {},
   "outputs": [
    {
     "data": {
      "text/plain": [
       "32"
      ]
     },
     "execution_count": 69,
     "metadata": {},
     "output_type": "execute_result"
    }
   ],
   "source": [
    "len(user_details)"
   ]
  },
  {
   "cell_type": "code",
   "execution_count": 212,
   "metadata": {},
   "outputs": [],
   "source": [
    "def _clean_post(post):\n",
    "    spam = [\"call\", \"whatsapp\", \"watsapp\", \"<img>\"]\n",
    "    try:\n",
    "        if \"<blockquote>\" in str(post):\n",
    "            post = \"quote detected\"\n",
    "        elif \"://\" in str(post) or \"www.\" in str(post) or str(post).lower() in spam:\n",
    "            post = \"possible spam detected\"\n",
    "        elif post.text == '':\n",
    "            post = \"POST DELETED BY MOD\"\n",
    "        else:\n",
    "            post = str(post.text)\n",
    "    except Exception:\n",
    "        pass\n",
    "    else:\n",
    "        clean_post_ = clean_text(post)\n",
    "    return clean_post_"
   ]
  },
  {
   "cell_type": "code",
   "execution_count": 211,
   "metadata": {},
   "outputs": [
    {
     "data": {
      "text/plain": [
       "'Hello everyone'"
      ]
     },
     "execution_count": 211,
     "metadata": {},
     "output_type": "execute_result"
    }
   ],
   "source": [
    "_clean_post(posts_[27])"
   ]
  },
  {
   "cell_type": "code",
   "execution_count": 182,
   "metadata": {},
   "outputs": [
    {
     "data": {
      "text/plain": [
       "'fff'"
      ]
     },
     "execution_count": 182,
     "metadata": {},
     "output_type": "execute_result"
    }
   ],
   "source": [
    "clean_text(\"fff\")"
   ]
  },
  {
   "cell_type": "code",
   "execution_count": 20,
   "metadata": {},
   "outputs": [],
   "source": [
    "import requests\n",
    "import random \n",
    "from collections import OrderedDict\n",
    "\n",
    "def spook_header():\n",
    "    headers_list = [\n",
    "        # Firefox 77 Mac\n",
    "         {\n",
    "            \"User-Agent\": \"Mozilla/5.0 (Macintosh; Intel Mac OS X 10.15; rv:77.0) Gecko/20100101 Firefox/77.0\",\n",
    "            \"Accept\": \"text/html,application/xhtml+xml,application/xml;q=0.9,image/webp,*/*;q=0.8\",\n",
    "            \"Accept-Language\": \"en-US,en;q=0.5\",\n",
    "            \"Referer\": \"https://www.google.com/\",\n",
    "            \"DNT\": \"1\",\n",
    "            \"Connection\": \"keep-alive\",\n",
    "            \"Upgrade-Insecure-Requests\": \"1\"\n",
    "        },\n",
    "        # Firefox 77 Windows\n",
    "        {\n",
    "            \"User-Agent\": \"Mozilla/5.0 (Windows NT 10.0; Win64; x64; rv:77.0) Gecko/20100101 Firefox/77.0\",\n",
    "            \"Accept\": \"text/html,application/xhtml+xml,application/xml;q=0.9,image/webp,*/*;q=0.8\",\n",
    "            \"Accept-Language\": \"en-US,en;q=0.5\",\n",
    "            \"Accept-Encoding\": \"gzip, deflate, br\",\n",
    "            \"Referer\": \"https://www.google.com/\",\n",
    "            \"DNT\": \"1\",\n",
    "            \"Connection\": \"keep-alive\",\n",
    "            \"Upgrade-Insecure-Requests\": \"1\"\n",
    "        },\n",
    "        # Chrome 83 Mac\n",
    "        {\n",
    "            \"Connection\": \"keep-alive\",\n",
    "            \"DNT\": \"1\",\n",
    "            \"Upgrade-Insecure-Requests\": \"1\",\n",
    "            \"User-Agent\": \"Mozilla/5.0 (Macintosh; Intel Mac OS X 10_15_5) AppleWebKit/537.36 (KHTML, like Gecko) Chrome/83.0.4103.97 Safari/537.36\",\n",
    "            \"Accept\": \"text/html,application/xhtml+xml,application/xml;q=0.9,image/webp,image/apng,*/*;q=0.8,application/signed-exchange;v=b3;q=0.9\",\n",
    "            \"Sec-Fetch-Site\": \"none\",\n",
    "            \"Sec-Fetch-Mode\": \"navigate\",\n",
    "            \"Sec-Fetch-Dest\": \"document\",\n",
    "            \"Referer\": \"https://www.google.com/\",\n",
    "            \"Accept-Encoding\": \"gzip, deflate, br\",\n",
    "            \"Accept-Language\": \"en-GB,en-US;q=0.9,en;q=0.8\"\n",
    "        },\n",
    "        # Chrome 83 Windows \n",
    "        {\n",
    "            \"Connection\": \"keep-alive\",\n",
    "            \"Upgrade-Insecure-Requests\": \"1\",\n",
    "            \"User-Agent\": \"Mozilla/5.0 (Windows NT 10.0; Win64; x64) AppleWebKit/537.36 (KHTML, like Gecko) Chrome/83.0.4103.97 Safari/537.36\",\n",
    "            \"Accept\": \"text/html,application/xhtml+xml,application/xml;q=0.9,image/webp,image/apng,*/*;q=0.8,application/signed-exchange;v=b3;q=0.9\",\n",
    "            \"Sec-Fetch-Site\": \"same-origin\",\n",
    "            \"Sec-Fetch-Mode\": \"navigate\",\n",
    "            \"Sec-Fetch-User\": \"?1\",\n",
    "            \"Sec-Fetch-Dest\": \"document\",\n",
    "            \"Referer\": \"https://www.google.com/\",\n",
    "            \"Accept-Encoding\": \"gzip, deflate, br\",\n",
    "            \"Accept-Language\": \"en-US,en;q=0.9\"\n",
    "        }\n",
    "    ]\n",
    "\n",
    "    return random.choice(headers_list)"
   ]
  },
  {
   "cell_type": "code",
   "execution_count": 21,
   "metadata": {},
   "outputs": [
    {
     "data": {
      "text/plain": [
       "{'User-Agent': 'Mozilla/5.0 (Macintosh; Intel Mac OS X 10.15; rv:77.0) Gecko/20100101 Firefox/77.0',\n",
       " 'Accept': 'text/html,application/xhtml+xml,application/xml;q=0.9,image/webp,*/*;q=0.8',\n",
       " 'Accept-Language': 'en-US,en;q=0.5',\n",
       " 'Referer': 'https://www.google.com/',\n",
       " 'DNT': '1',\n",
       " 'Connection': 'keep-alive',\n",
       " 'Upgrade-Insecure-Requests': '1'}"
      ]
     },
     "execution_count": 21,
     "metadata": {},
     "output_type": "execute_result"
    }
   ],
   "source": [
    "spook_header()"
   ]
  },
  {
   "cell_type": "code",
   "execution_count": 498,
   "metadata": {},
   "outputs": [],
   "source": [
    "c = \"https://www.nairaland.com/5998585/bbnaija-2020-live-updates-thread/600\""
   ]
  },
  {
   "cell_type": "code",
   "execution_count": 499,
   "metadata": {},
   "outputs": [
    {
     "data": {
      "text/plain": [
       "'0'"
      ]
     },
     "execution_count": 499,
     "metadata": {},
     "output_type": "execute_result"
    }
   ],
   "source": [
    "c[-1]"
   ]
  },
  {
   "cell_type": "code",
   "execution_count": null,
   "metadata": {},
   "outputs": [],
   "source": []
  },
  {
   "cell_type": "code",
   "execution_count": null,
   "metadata": {},
   "outputs": [],
   "source": []
  },
  {
   "cell_type": "code",
   "execution_count": null,
   "metadata": {},
   "outputs": [],
   "source": []
  },
  {
   "cell_type": "code",
   "execution_count": 440,
   "metadata": {},
   "outputs": [
    {
     "name": "stdout",
     "output_type": "stream",
     "text": [
      "quote detected\n",
      "quote detected\n",
      "possible spam detected\n",
      "possible spam detected\n",
      "possible spam detected\n",
      "The show never start ona don dey rant...It's alright, let me be chewing my suya first, until they post my ex as one of the contestants.\n",
      "possible spam detected\n",
      "possible spam detected\n",
      "2 days to go\n",
      "quote detected\n",
      "quote detected\n",
      "I heard one descendant of bobrisky is going to the house.... \"Jay boogie\" as a male or female??\n",
      "possible spam detected\n",
      "possible spam detected\n",
      "Another season of IMMORAL NAIJA SHOW. And people will foolishly waste their money and airtime voting\n",
      "Following...\n",
      "After all the gra gra of the first day, we will come to start talking business...\n",
      "Team female winner.\n",
      "Watching from Nairaland.\n",
      "quote detected\n",
      "quote detected\n",
      "It's a wrap for Mercy, Tacha and Co. Life\n",
      "This troll is back again? Only you will open BBNaija threads and still troll them to ensure they reach a high view count. I’m sure that Yoruba boy pays you for the effort. This time I’ll focus my mind on ways to get money during the lockdown. My account balance needs the padding.\n",
      "quote detected\n",
      "quote detected\n",
      "quote detected\n",
      "quote detected\n",
      "Hello everyone!!\n",
      "quote detected\n",
      "quote detected\n",
      "quote detected\n",
      "Okrrrrr\n"
     ]
    }
   ],
   "source": [
    "xxx = []\n",
    "for i in nl_soup.findAll(\"div\", {\"class\":\"narrow\"}, recursive=True):\n",
    "    if \"<blockquote>\" in str(i):\n",
    "        print(\"quote detected\")\n",
    "        xxx.append(\"quote\")\n",
    "        continue\n",
    "    if \"://\" in str(i) or \"www.\" in str(i):\n",
    "        print(\"possible spam detected\")\n",
    "        xxx.append(\"spam\")\n",
    "        continue\n",
    "    else:\n",
    "        xxx.append(clean_text(str(i.text)))\n",
    "        print(i.text)"
   ]
  },
  {
   "cell_type": "code",
   "execution_count": 462,
   "metadata": {},
   "outputs": [
    {
     "data": {
      "text/plain": [
       "32"
      ]
     },
     "execution_count": 462,
     "metadata": {},
     "output_type": "execute_result"
    }
   ],
   "source": [
    "[word for sentence in text for word in sentence]"
   ]
  },
  {
   "cell_type": "code",
   "execution_count": 467,
   "metadata": {},
   "outputs": [],
   "source": [
    "# x = [t.text for t in timestamps_]"
   ]
  },
  {
   "cell_type": "code",
   "execution_count": 472,
   "metadata": {},
   "outputs": [],
   "source": [
    "x = [t.text for t in timestamps_]\n",
    "xc = [i.split(\" \") for i in x]"
   ]
  },
  {
   "cell_type": "code",
   "execution_count": 477,
   "metadata": {},
   "outputs": [
    {
     "name": "stdout",
     "output_type": "stream",
     "text": [
      "['12:01am', 'On', 'Jul', '18']\n",
      "['12:02am', 'On', 'Jul', '18']\n",
      "['12:03am', 'On', 'Jul', '18']\n",
      "['12:05am', 'On', 'Jul', '18']\n",
      "['12:07am', 'On', 'Jul', '18']\n",
      "['12:09am', 'On', 'Jul', '18']\n",
      "['12:27am', 'On', 'Jul', '18']\n",
      "['12:27am', 'On', 'Jul', '18']\n",
      "['12:28am', 'On', 'Jul', '18']\n",
      "['12:32am', 'On', 'Jul', '18']\n",
      "['12:33am', 'On', 'Jul', '18']\n",
      "['12:41am', 'On', 'Jul', '18']\n",
      "['12:47am', 'On', 'Jul', '18']\n",
      "['12:53am', 'On', 'Jul', '18']\n",
      "['12:54am', 'On', 'Jul', '18']\n",
      "['1:09am', 'On', 'Jul', '18']\n",
      "['1:22am', 'On', 'Jul', '18']\n",
      "['1:50am', 'On', 'Jul', '18']\n",
      "['4:08am', 'On', 'Jul', '18']\n",
      "['4:12am', 'On', 'Jul', '18']\n",
      "['5:28am', 'On', 'Jul', '18']\n",
      "['5:29am', 'On', 'Jul', '18']\n",
      "['6:17am', 'On', 'Jul', '18']\n",
      "['7:15am', 'On', 'Jul', '18']\n",
      "['9:16am', 'On', 'Jul', '18']\n",
      "['9:17am', 'On', 'Jul', '18']\n",
      "['9:28am', 'On', 'Jul', '18']\n",
      "['9:28am', 'On', 'Jul', '18']\n",
      "['9:31am', 'On', 'Jul', '18']\n",
      "['9:32am', 'On', 'Jul', '18']\n",
      "['9:54am', 'On', 'Jul', '18']\n",
      "['10:13am', 'On', 'Jul', '18']\n"
     ]
    }
   ],
   "source": [
    "for i in x:\n",
    "    print(i.split(\" \"))"
   ]
  },
  {
   "cell_type": "code",
   "execution_count": 86,
   "metadata": {},
   "outputs": [
    {
     "name": "stdout",
     "output_type": "stream",
     "text": [
      "fff\n"
     ]
    }
   ],
   "source": [
    "print(f\"fff\")"
   ]
  },
  {
   "cell_type": "code",
   "execution_count": 240,
   "metadata": {},
   "outputs": [],
   "source": [
    "def contestant_points(post):\n",
    "    nengi_score = 0\n",
    "    if \"nengi\" in post:\n",
    "        nengi_score += 1\n",
    "    return nengi_score"
   ]
  },
  {
   "cell_type": "code",
   "execution_count": 246,
   "metadata": {},
   "outputs": [
    {
     "data": {
      "text/plain": [
       "1"
      ]
     },
     "execution_count": 246,
     "metadata": {},
     "output_type": "execute_result"
    }
   ],
   "source": [
    "contestant_points(\"ffff, nengi\")"
   ]
  },
  {
   "cell_type": "code",
   "execution_count": 250,
   "metadata": {},
   "outputs": [
    {
     "data": {
      "text/plain": [
       "'sdndkd dfew dkein4 mfe'"
      ]
     },
     "execution_count": 250,
     "metadata": {},
     "output_type": "execute_result"
    }
   ],
   "source": [
    "# [1 if 'Love3' in \"we Love\" else 0]\n",
    "p = \"Sdndkd dfew Dkein4 mfe\"\n",
    "p.lower()"
   ]
  },
  {
   "cell_type": "code",
   "execution_count": 251,
   "metadata": {},
   "outputs": [],
   "source": [
    "def sent_by_contestant():\n",
    "    post_ = post.lower()\n",
    "    result = Analyzer(post_)\n",
    "    pos_neu_neg = process_result()\n",
    "    if \"nengi\" in post_:\n",
    "        sent_Nenji = score\n",
    "    else:\n",
    "        sent_Nenji = 0\n",
    "    if \"prince\" in post_:\n",
    "        sent_Prince = score\n",
    "    else:\n",
    "        sent_Prince = 0\n",
    "    if \"erica\" in post_:\n",
    "        sent_Erica = score\n",
    "    else:\n",
    "        sent_Erica = 0\n",
    "    if \"dorathy\" in post_ or \"doro\" in post_:\n",
    "        sent_Dorathy = 1\n",
    "    else:\n",
    "        sent_Dorathy = 0\n",
    "    if \"Tolanibaj\" in post_ or :\n",
    "        sent_Nenji = 1\n",
    "    else:\n",
    "        sent_Nenji = 0\n",
    "    if \"vee\" in post_:\n",
    "        sent_Nenji = 1\n",
    "    else:\n",
    "        sent_Nenji = 0\n",
    "    if \"lilo\" in post_:\n",
    "        sent_Nenji = 1\n",
    "    else:\n",
    "        sent_Nenji = 0\n",
    "    if \"trickytee\" in post_ or \"tee\" in post_:\n",
    "        sent_Tee = 1\n",
    "    else:\n",
    "        sent_Tee = 0\n",
    "    if \"lucy\" in post_:\n",
    "        sent_Lucy = 1\n",
    "    else:\n",
    "        sent_Lucy = 0\n",
    "    if \"kiddwaya\" in post_ or \"kidd\" in post_:\n",
    "        sent_Kiddwaya = 1\n",
    "    else:\n",
    "        sent_Kiddwaya = 0\n",
    "    if \"praise\" in post_:\n",
    "        sent_Praise = 1\n",
    "    else:\n",
    "        sent_Praise = 0\n",
    "    if \"wathoni\" in post_:\n",
    "        sent_Wathoni = 1\n",
    "    else:\n",
    "        sent_Wathoni = 0\n",
    "    if \"eric\" in post_:\n",
    "        sent_Eric = 1\n",
    "    else:\n",
    "        sent_Eric = 0\n",
    "    if \"kaisha\" in post_ or \"aisha\" in post:\n",
    "        sent_Kaisha = 1\n",
    "    else:\n",
    "        sent_Kaisha = 0\n",
    "    if \"neo\" in post_:\n",
    "        sent_Neo = 1\n",
    "    else:\n",
    "        sent_Neo = 0\n",
    "    if \"brighto\" in post_ or \"bright\" in post_:\n",
    "        sent_Brighto = 1\n",
    "    else:\n",
    "        sent_Brighto = 0\n",
    "    if \"laycon\" in post_ or \"lekan\" in post_:\n",
    "        sent_Laycon = 1\n",
    "    else:\n",
    "        sent_Laycon = 0\n",
    "    if \"tochi\" in post_ or \"tochukwu\" in post_:\n",
    "        sent_Tochi = 1\n",
    "    else:\n",
    "        sent_Tochi = 0\n",
    "    if \"ka3na\" in post_ or \"katrina\" in post_:\n",
    "        sent_Ka3na = 1\n",
    "    else:\n",
    "        sent_Ka3na = 0\n"
   ]
  },
  {
   "cell_type": "code",
   "execution_count": null,
   "metadata": {},
   "outputs": [],
   "source": []
  },
  {
   "cell_type": "code",
   "execution_count": 253,
   "metadata": {},
   "outputs": [],
   "source": [
    "vv = [{\"username\": \"vizkiz\", \"location\": \"Lagos Nigeria\", \"post\": \"quote detected\", \"time\": \"12:01am\", \"date\": \"Jul18\"}, {\"username\": \"vizkiz\", \"location\": \"Lagos Nigeria\", \"post\": \"quote detected\", \"time\": \"12:02am\", \"date\": \"Jul18\"}]"
   ]
  },
  {
   "cell_type": "code",
   "execution_count": 255,
   "metadata": {},
   "outputs": [
    {
     "name": "stdout",
     "output_type": "stream",
     "text": [
      "vizkiz\n",
      "vizkiz\n"
     ]
    }
   ],
   "source": [
    "for i in vv:\n",
    "    print(i[\"username\"])"
   ]
  },
  {
   "cell_type": "code",
   "execution_count": null,
   "metadata": {},
   "outputs": [],
   "source": []
  }
 ],
 "metadata": {
  "kernelspec": {
   "display_name": "Python 3",
   "language": "python",
   "name": "python3"
  },
  "language_info": {
   "codemirror_mode": {
    "name": "ipython",
    "version": 3
   },
   "file_extension": ".py",
   "mimetype": "text/x-python",
   "name": "python",
   "nbconvert_exporter": "python",
   "pygments_lexer": "ipython3",
   "version": "3.6.8"
  }
 },
 "nbformat": 4,
 "nbformat_minor": 4
}

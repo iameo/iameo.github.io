{
 "cells": [
  {
   "cell_type": "markdown",
   "metadata": {},
   "source": [
    "I'm always quick to recommend Fluent Python as one of the few books when asked \"What book should I read to become a good(or better) Python programmer\", and that's largely due to its easy absorption; the contents in the book, not the book itself. (Although, I am yet to try the latter)\n",
    "\n",
    "\n",
    "In the case of validating my taste in finer Python books, I suppose Python Cookbook, Learn Python the Hard Way, and Eric's Python Crash Course book amongst others are in my arsenal.\n",
    "\n",
    "\n",
    "Going forward, I'll be taking one excerpt code from the Fluent Python book in order to explain some Python object mechanisms then we code our very own class. You do not need the book to follow through but I would suggest buying one to go through other code listings. (Not advertising!)\n",
    "\n"
   ]
  },
  {
   "cell_type": "markdown",
   "metadata": {},
   "source": [
    "The one borrowed code listing and our very own example are largely OOP based so the entirety of this article will build around that. A good time to learn (more*) about objects, property, classmethod, staticmethod, and a couple more(Inheritance intentionally left out).\n",
    "\n",
    "\n",
    "#### OOP:\n",
    "This is a method of structuring a program by bundling related properties and behaviors into individual objects. The way of setting up an object is really in the definitive example of say, OOP is an approach for modeling concrete, real-world things; for instance, an object could represent a car with **properties** such as model, color and manufacture year, and **behavior** like accelerating, de-accelerating and opening doors.\n",
    "\n",
    "#### classmethod\n",
    "A classmethod is a method that is bound to a class rather than its object. classmethod receives the class itself as the first argument in place on an instance(self). They are _commonly_ identified by the decorator **@classmethod** on the method. You could also declare a class method anywhere outside the class using:\n",
    "\n",
    "#### staticmethod\n",
    "A staticmethod unlike a classmethod is not bounded to its class. It's pretty much a function* housed in a class, and as might as well be defined at the module level.\n",
    "So what really is a class? A class is used to create user-defined data structures. Classes define functions called methods(typical functions but inside a class), which are responsible for identifying behaviors and actions that an object created from that class can adhere to.\n",
    "Classes hold no real data but when instantiated(making an instance of that class), real data are provided when need be.\n",
    "A simple class structure could be seen below:\n"
   ]
  },
  {
   "cell_type": "code",
   "execution_count": 1,
   "metadata": {},
   "outputs": [],
   "source": [
    "class SimpleClass:\n",
    "    pass\n",
    "\n",
    "\n",
    "#make an instance of the above class\n",
    "simple_class = SimpleClass()"
   ]
  },
  {
   "cell_type": "code",
   "execution_count": 2,
   "metadata": {},
   "outputs": [
    {
     "name": "stdout",
     "output_type": "stream",
     "text": [
      "(<class '__main__.Sample'>, 'hello')\n",
      "('hello',)\n"
     ]
    }
   ],
   "source": [
    "#classmethod | staticmethod\n",
    "\n",
    "class Sample:\n",
    "    @classmethod\n",
    "    def klassmethod(*args):\n",
    "        return args\n",
    "    \n",
    "    @staticmethod\n",
    "    def statmethod(*args):\n",
    "        return args\n",
    "\n",
    "\n",
    "#attached to class Sample\n",
    "print(Sample.klassmethod(\"hello\"))\n",
    "\n",
    "#not attached to class, only shows arguments\n",
    "print(Sample.statmethod(\"hello\"))\n"
   ]
  },
  {
   "cell_type": "code",
   "execution_count": null,
   "metadata": {},
   "outputs": [],
   "source": []
  },
  {
   "cell_type": "markdown",
   "metadata": {},
   "source": [
    "I can think of plenty of ways using the classmethod but not so much on the staticmethod. Let's move on to building another class, the one from the book. A two-dimensional Vector class. Do note that I added to the original code to fit our case even more.\n",
    "\n",
    "\n",
    "\n",
    "We want this vector class to be able to get its magnitude and angle, compare with other vector class instances, build an instance using external data, and unpack(x,y = vector(2.3, 4.3)) - hence making it iterable."
   ]
  },
  {
   "cell_type": "code",
   "execution_count": 3,
   "metadata": {},
   "outputs": [],
   "source": [
    "import math"
   ]
  },
  {
   "cell_type": "code",
   "execution_count": 4,
   "metadata": {},
   "outputs": [],
   "source": [
    "class Vector2d:\n",
    "    \"\"\"A two dimensional vector class that does vector stuff\"\"\"\n",
    "    def __init__(self, x=0, y=0):\n",
    "        self.x = float(x)\n",
    "        self.y = float(y)\n",
    "        \n",
    "    #instA == instB\n",
    "    def __eq__(self, other):\n",
    "        return tuple(self) == tuple(self)\n",
    "    \n",
    "    #iterable for unpacking purposes\n",
    "    def __iter__(self):\n",
    "        return (i for i in (self.x, self.y))\n",
    "    \n",
    "    def __repr__(self):\n",
    "        className = type(self).__name__\n",
    "        return '{}({!r}, {!r})'.format(className, *self)\n",
    "    \n",
    "    def __str__(self):\n",
    "        return str(tuple(self))\n",
    "    \n",
    "    #magnitude\n",
    "    def __abs__(self):\n",
    "        return math.hypot(self.x, self.y)\n",
    "    \n",
    "    #angle\n",
    "    def angle(self):\n",
    "        return math.atan2(self.y, self.x)\n",
    "    \n",
    "    #True for positive nonzeros\n",
    "    def __bool__(self):\n",
    "        return bool(abs(self))\n",
    "    \n",
    "    #make instance using external data\n",
    "    @classmethod\n",
    "    def external(cls, data):\n",
    "        return cls(data[0], data[1]) "
   ]
  },
  {
   "cell_type": "markdown",
   "metadata": {},
   "source": [
    "Pretty straightforward! We shall now move to test this class out."
   ]
  },
  {
   "cell_type": "code",
   "execution_count": 5,
   "metadata": {},
   "outputs": [
    {
     "data": {
      "text/plain": [
       "Vector2d(3.0, 9.0)"
      ]
     },
     "execution_count": 5,
     "metadata": {},
     "output_type": "execute_result"
    }
   ],
   "source": [
    "vect_one = Vector2d(3,9)\n",
    "vect_one #calls __repr__; print(vect_one) calls __str__"
   ]
  },
  {
   "cell_type": "code",
   "execution_count": 6,
   "metadata": {},
   "outputs": [
    {
     "name": "stdout",
     "output_type": "stream",
     "text": [
      "vect_one has a magntiude of 9.487\n",
      "..and an angle of 1.25 degrees\n",
      "Vect_one:  (3.0, 9.0) & Vect_two:  (3.0, 8.0)\n"
     ]
    }
   ],
   "source": [
    "#calculate magnitude\n",
    "print(\"vect_one has a magntiude of {:.3f}\".format(abs(vect_one)))\n",
    "\n",
    "#calculate angle\n",
    "print(\"..and an angle of {:.2f} degrees\".format(vect_one.angle()))\n",
    "\n",
    "'''since we included __eq__ in the class we can use that to\\\n",
    "test out the class method external; compare values'''\n",
    "\n",
    "vect_two =  Vector2d.external([3,8])\n",
    "vect_one == vect_two\n",
    "\n",
    "print(\"Vect_one: \",vect_one, \"& Vect_two: \", vect_two)"
   ]
  },
  {
   "cell_type": "code",
   "execution_count": null,
   "metadata": {},
   "outputs": [],
   "source": []
  },
  {
   "cell_type": "markdown",
   "metadata": {},
   "source": [
    "No hassle! Let's try to explain some bits that MIGHT be confusing.\n",
    "\n",
    "**__abs__**, just like the rest with double underscores on both ends is called magic methods (or dunder methods). *__abs__* is an absolute operator for numbers; it returns a positive value if provided a negative value; abs(-5) returns 5. This magic method won't serve any immediate goal in our vector class as it's quite okay to have negative values instead we retrofitted it to serve as our magnitude method.\n",
    "\n",
    "The *external* method, which as we saw is a class method and already explained. It simply allows for making instances. An example of this would be:"
   ]
  },
  {
   "cell_type": "code",
   "execution_count": 7,
   "metadata": {},
   "outputs": [],
   "source": [
    "#external csv file imported\n",
    "\n",
    "import pandas as pd\n",
    "\n",
    "vec_file = pd.read_csv(\"XYs.csv\")"
   ]
  },
  {
   "cell_type": "code",
   "execution_count": 8,
   "metadata": {},
   "outputs": [
    {
     "data": {
      "text/plain": [
       "Vector2d(1.0, 6.0)"
      ]
     },
     "execution_count": 8,
     "metadata": {},
     "output_type": "execute_result"
    }
   ],
   "source": [
    "Vector2d.external(vec_file.iloc[2, :])"
   ]
  },
  {
   "cell_type": "markdown",
   "metadata": {},
   "source": [
    "This is just the basic use of class methods, and if you'd like to see something interesting check the datetime package."
   ]
  },
  {
   "cell_type": "code",
   "execution_count": null,
   "metadata": {},
   "outputs": [],
   "source": []
  },
  {
   "cell_type": "code",
   "execution_count": null,
   "metadata": {},
   "outputs": [],
   "source": []
  },
  {
   "cell_type": "markdown",
   "metadata": {},
   "source": [
    "Now, let's make an object person that can use the Vector class; our very own code example."
   ]
  },
  {
   "cell_type": "code",
   "execution_count": 9,
   "metadata": {},
   "outputs": [],
   "source": [
    "class JohnPerson:\n",
    "    NAME = 'John'\n",
    "    \n",
    "    def __init__(self, vectorX, vectorY):\n",
    "        self.X = vectorX\n",
    "        self.Y = vectorY\n",
    "    \n",
    "    def use_vector(self):\n",
    "        vector = Vector2d(self.X, self.Y)  #1*\n",
    "        return vector\n",
    "    \n",
    "    @classmethod\n",
    "    def name_of_person(cls):\n",
    "        return cls.NAME\n",
    "    \n",
    "    def __str__(self):\n",
    "        #vector's str returns a tuple only\n",
    "        return \"My name is {0} person and I just instanced Vector{1}\".format(JohnPerson.name_of_person(), self.use_vector())\n",
    "    \n",
    "    __repr__ = __str__"
   ]
  },
  {
   "cell_type": "markdown",
   "metadata": {},
   "source": [
    "\n",
    "_1* : Read on [composition](https://realpython.com/inheritance-composition-python/)_"
   ]
  },
  {
   "cell_type": "code",
   "execution_count": 10,
   "metadata": {},
   "outputs": [],
   "source": [
    "person1 = JohnPerson(4,5)\n",
    "person2 = JohnPerson(7,3)"
   ]
  },
  {
   "cell_type": "code",
   "execution_count": 11,
   "metadata": {},
   "outputs": [
    {
     "data": {
      "text/plain": [
       "('John', 'John')"
      ]
     },
     "execution_count": 11,
     "metadata": {},
     "output_type": "execute_result"
    }
   ],
   "source": [
    "person1.name_of_person(), person2.name_of_person()"
   ]
  },
  {
   "cell_type": "code",
   "execution_count": 12,
   "metadata": {},
   "outputs": [
    {
     "data": {
      "text/plain": [
       "My name is John person and I just instanced Vector(4.0, 5.0)"
      ]
     },
     "execution_count": 12,
     "metadata": {},
     "output_type": "execute_result"
    }
   ],
   "source": [
    "person1"
   ]
  },
  {
   "cell_type": "code",
   "execution_count": 13,
   "metadata": {},
   "outputs": [
    {
     "name": "stdout",
     "output_type": "stream",
     "text": [
      "My name is John person and I just instanced Vector(4.0, 5.0)\n"
     ]
    }
   ],
   "source": [
    "person1.NAME = \"Fred\" #change person1's NAME to Fred; won't work as intended\n",
    "print(person1)"
   ]
  },
  {
   "cell_type": "code",
   "execution_count": 14,
   "metadata": {},
   "outputs": [
    {
     "data": {
      "text/plain": [
       "'Fred'"
      ]
     },
     "execution_count": 14,
     "metadata": {},
     "output_type": "execute_result"
    }
   ],
   "source": [
    "#shows Fred still as it references the JohnPerson class itself, not the instance\n",
    "person1.NAME"
   ]
  },
  {
   "cell_type": "code",
   "execution_count": 15,
   "metadata": {},
   "outputs": [
    {
     "data": {
      "text/plain": [
       "'John'"
      ]
     },
     "execution_count": 15,
     "metadata": {},
     "output_type": "execute_result"
    }
   ],
   "source": [
    "person2.NAME"
   ]
  },
  {
   "cell_type": "markdown",
   "metadata": {},
   "source": [
    "##### Conclusion:\n",
    "Do not let OOP frustrate you."
   ]
  },
  {
   "cell_type": "markdown",
   "metadata": {},
   "source": [
    "##### References:\n",
    "\n",
    "- Lucaino's [Fluent Python](https://www.oreilly.com/library/view/fluent-python/9781491946237/)\n",
    "- Classmethod on [Programiz](https://www.programiz.com/python-programming/methods/built-in/classmethod)"
   ]
  },
  {
   "cell_type": "code",
   "execution_count": null,
   "metadata": {},
   "outputs": [],
   "source": []
  }
 ],
 "metadata": {
  "kernelspec": {
   "display_name": "Python 3 (ipykernel)",
   "language": "python",
   "name": "python3"
  },
  "language_info": {
   "codemirror_mode": {
    "name": "ipython",
    "version": 3
   },
   "file_extension": ".py",
   "mimetype": "text/x-python",
   "name": "python",
   "nbconvert_exporter": "python",
   "pygments_lexer": "ipython3",
   "version": "3.9.11"
  }
 },
 "nbformat": 4,
 "nbformat_minor": 4
}
